{
 "cells": [
  {
   "cell_type": "markdown",
   "metadata": {},
   "source": [
    "# Analysis of Vectorized Genres\r\n",
    "\r\n",
    "In the [genre_raw notebook](genre_raw.ipynb), I used the cardinal data in the `data_by_genre` dataset to act as a crude vector. For the `funk` genre, these were the closest genres according to the genre characteristics:\r\n",
    "\r\n",
    "```\r\n",
    "['funk',\r\n",
    " 'folclore tucumano',\r\n",
    " 'quiet storm',\r\n",
    " 'lancaster pa indie',\r\n",
    " 'freestyle',\r\n",
    " 'second line',\r\n",
    " 'danish metal',\r\n",
    " 'disco',\r\n",
    " 'hong kong indie',\r\n",
    " 'hong kong rock']\r\n",
    "```\r\n",
    "\r\n",
    "You can see they don't have much to do with each other outside of their characteristic values. Hopefully, using the newly vectorized genres from the [genre2vec notebook](genre2vec.ipynb), I can achieve more related genres and increased functionality.\r\n"
   ]
  },
  {
   "cell_type": "code",
   "execution_count": 83,
   "metadata": {},
   "outputs": [],
   "source": [
    "import pandas as pd\r\n",
    "from scipy.spatial.distance import cosine\r\n",
    "import numpy as np\r\n",
    "from sklearn.decomposition import PCA\r\n",
    "import plotly.express as px"
   ]
  },
  {
   "cell_type": "code",
   "execution_count": 84,
   "metadata": {},
   "outputs": [],
   "source": [
    "weights = pd.read_csv('fit_vectors/vectors.tsv', sep='\\t',names=[i for i in range(64)])\r\n",
    "genres = pd.read_csv('fit_vectors/metadata.tsv', names=['genre'])\r\n",
    "frequency = pd.read_csv('fit_vectors/frequency.csv', index_col=0)"
   ]
  },
  {
   "cell_type": "code",
   "execution_count": 85,
   "metadata": {},
   "outputs": [
    {
     "data": {
      "text/html": [
       "<div>\n",
       "<style scoped>\n",
       "    .dataframe tbody tr th:only-of-type {\n",
       "        vertical-align: middle;\n",
       "    }\n",
       "\n",
       "    .dataframe tbody tr th {\n",
       "        vertical-align: top;\n",
       "    }\n",
       "\n",
       "    .dataframe thead th {\n",
       "        text-align: right;\n",
       "    }\n",
       "</style>\n",
       "<table border=\"1\" class=\"dataframe\">\n",
       "  <thead>\n",
       "    <tr style=\"text-align: right;\">\n",
       "      <th></th>\n",
       "      <th>0</th>\n",
       "      <th>1</th>\n",
       "      <th>2</th>\n",
       "      <th>3</th>\n",
       "      <th>4</th>\n",
       "      <th>5</th>\n",
       "      <th>6</th>\n",
       "      <th>7</th>\n",
       "      <th>8</th>\n",
       "      <th>9</th>\n",
       "      <th>...</th>\n",
       "      <th>55</th>\n",
       "      <th>56</th>\n",
       "      <th>57</th>\n",
       "      <th>58</th>\n",
       "      <th>59</th>\n",
       "      <th>60</th>\n",
       "      <th>61</th>\n",
       "      <th>62</th>\n",
       "      <th>63</th>\n",
       "      <th>occurances</th>\n",
       "    </tr>\n",
       "    <tr>\n",
       "      <th>genre</th>\n",
       "      <th></th>\n",
       "      <th></th>\n",
       "      <th></th>\n",
       "      <th></th>\n",
       "      <th></th>\n",
       "      <th></th>\n",
       "      <th></th>\n",
       "      <th></th>\n",
       "      <th></th>\n",
       "      <th></th>\n",
       "      <th></th>\n",
       "      <th></th>\n",
       "      <th></th>\n",
       "      <th></th>\n",
       "      <th></th>\n",
       "      <th></th>\n",
       "      <th></th>\n",
       "      <th></th>\n",
       "      <th></th>\n",
       "      <th></th>\n",
       "      <th></th>\n",
       "    </tr>\n",
       "  </thead>\n",
       "  <tbody>\n",
       "    <tr>\n",
       "      <th>rock</th>\n",
       "      <td>0.297401</td>\n",
       "      <td>-0.065244</td>\n",
       "      <td>0.161445</td>\n",
       "      <td>0.028481</td>\n",
       "      <td>-0.172059</td>\n",
       "      <td>0.051996</td>\n",
       "      <td>-0.230878</td>\n",
       "      <td>-0.155090</td>\n",
       "      <td>-0.189513</td>\n",
       "      <td>0.214556</td>\n",
       "      <td>...</td>\n",
       "      <td>0.165414</td>\n",
       "      <td>0.126300</td>\n",
       "      <td>0.241630</td>\n",
       "      <td>0.082258</td>\n",
       "      <td>-0.168814</td>\n",
       "      <td>0.215936</td>\n",
       "      <td>0.178141</td>\n",
       "      <td>-0.308114</td>\n",
       "      <td>-0.141744</td>\n",
       "      <td>611</td>\n",
       "    </tr>\n",
       "    <tr>\n",
       "      <th>pop</th>\n",
       "      <td>-0.047431</td>\n",
       "      <td>-0.075726</td>\n",
       "      <td>0.201230</td>\n",
       "      <td>-0.198277</td>\n",
       "      <td>-0.025230</td>\n",
       "      <td>0.188105</td>\n",
       "      <td>-0.145932</td>\n",
       "      <td>0.134658</td>\n",
       "      <td>0.108949</td>\n",
       "      <td>-0.108680</td>\n",
       "      <td>...</td>\n",
       "      <td>0.122657</td>\n",
       "      <td>-0.069843</td>\n",
       "      <td>-0.194077</td>\n",
       "      <td>0.149244</td>\n",
       "      <td>0.110303</td>\n",
       "      <td>-0.222669</td>\n",
       "      <td>0.066243</td>\n",
       "      <td>-0.086428</td>\n",
       "      <td>-0.218115</td>\n",
       "      <td>593</td>\n",
       "    </tr>\n",
       "    <tr>\n",
       "      <th>dance pop</th>\n",
       "      <td>-0.260151</td>\n",
       "      <td>0.141660</td>\n",
       "      <td>0.091752</td>\n",
       "      <td>-0.264015</td>\n",
       "      <td>0.131204</td>\n",
       "      <td>0.178600</td>\n",
       "      <td>-0.214659</td>\n",
       "      <td>0.033899</td>\n",
       "      <td>0.093616</td>\n",
       "      <td>-0.247598</td>\n",
       "      <td>...</td>\n",
       "      <td>0.060190</td>\n",
       "      <td>0.009739</td>\n",
       "      <td>-0.264901</td>\n",
       "      <td>0.173026</td>\n",
       "      <td>0.166727</td>\n",
       "      <td>-0.074361</td>\n",
       "      <td>-0.117554</td>\n",
       "      <td>0.312756</td>\n",
       "      <td>-0.128149</td>\n",
       "      <td>572</td>\n",
       "    </tr>\n",
       "    <tr>\n",
       "      <th>rap</th>\n",
       "      <td>-0.144567</td>\n",
       "      <td>0.315087</td>\n",
       "      <td>0.203594</td>\n",
       "      <td>-0.076298</td>\n",
       "      <td>-0.229012</td>\n",
       "      <td>0.251945</td>\n",
       "      <td>0.321193</td>\n",
       "      <td>-0.095935</td>\n",
       "      <td>-0.334801</td>\n",
       "      <td>-0.050728</td>\n",
       "      <td>...</td>\n",
       "      <td>0.004749</td>\n",
       "      <td>-0.004354</td>\n",
       "      <td>-0.084426</td>\n",
       "      <td>0.223548</td>\n",
       "      <td>0.268649</td>\n",
       "      <td>0.076912</td>\n",
       "      <td>-0.244264</td>\n",
       "      <td>0.321721</td>\n",
       "      <td>0.093050</td>\n",
       "      <td>516</td>\n",
       "    </tr>\n",
       "    <tr>\n",
       "      <th>hip hop</th>\n",
       "      <td>-0.114314</td>\n",
       "      <td>0.366533</td>\n",
       "      <td>0.336520</td>\n",
       "      <td>-0.049034</td>\n",
       "      <td>-0.267068</td>\n",
       "      <td>0.087755</td>\n",
       "      <td>0.370791</td>\n",
       "      <td>-0.130331</td>\n",
       "      <td>-0.380851</td>\n",
       "      <td>-0.080021</td>\n",
       "      <td>...</td>\n",
       "      <td>0.192115</td>\n",
       "      <td>0.166349</td>\n",
       "      <td>0.042726</td>\n",
       "      <td>0.098826</td>\n",
       "      <td>0.088184</td>\n",
       "      <td>0.075849</td>\n",
       "      <td>-0.308070</td>\n",
       "      <td>0.289119</td>\n",
       "      <td>-0.053495</td>\n",
       "      <td>507</td>\n",
       "    </tr>\n",
       "  </tbody>\n",
       "</table>\n",
       "<p>5 rows × 65 columns</p>\n",
       "</div>"
      ],
      "text/plain": [
       "                  0         1         2         3         4         5  \\\n",
       "genre                                                                   \n",
       "rock       0.297401 -0.065244  0.161445  0.028481 -0.172059  0.051996   \n",
       "pop       -0.047431 -0.075726  0.201230 -0.198277 -0.025230  0.188105   \n",
       "dance pop -0.260151  0.141660  0.091752 -0.264015  0.131204  0.178600   \n",
       "rap       -0.144567  0.315087  0.203594 -0.076298 -0.229012  0.251945   \n",
       "hip hop   -0.114314  0.366533  0.336520 -0.049034 -0.267068  0.087755   \n",
       "\n",
       "                  6         7         8         9  ...        55        56  \\\n",
       "genre                                              ...                       \n",
       "rock      -0.230878 -0.155090 -0.189513  0.214556  ...  0.165414  0.126300   \n",
       "pop       -0.145932  0.134658  0.108949 -0.108680  ...  0.122657 -0.069843   \n",
       "dance pop -0.214659  0.033899  0.093616 -0.247598  ...  0.060190  0.009739   \n",
       "rap        0.321193 -0.095935 -0.334801 -0.050728  ...  0.004749 -0.004354   \n",
       "hip hop    0.370791 -0.130331 -0.380851 -0.080021  ...  0.192115  0.166349   \n",
       "\n",
       "                 57        58        59        60        61        62  \\\n",
       "genre                                                                   \n",
       "rock       0.241630  0.082258 -0.168814  0.215936  0.178141 -0.308114   \n",
       "pop       -0.194077  0.149244  0.110303 -0.222669  0.066243 -0.086428   \n",
       "dance pop -0.264901  0.173026  0.166727 -0.074361 -0.117554  0.312756   \n",
       "rap       -0.084426  0.223548  0.268649  0.076912 -0.244264  0.321721   \n",
       "hip hop    0.042726  0.098826  0.088184  0.075849 -0.308070  0.289119   \n",
       "\n",
       "                 63  occurances  \n",
       "genre                            \n",
       "rock      -0.141744         611  \n",
       "pop       -0.218115         593  \n",
       "dance pop -0.128149         572  \n",
       "rap        0.093050         516  \n",
       "hip hop   -0.053495         507  \n",
       "\n",
       "[5 rows x 65 columns]"
      ]
     },
     "execution_count": 85,
     "metadata": {},
     "output_type": "execute_result"
    }
   ],
   "source": [
    "df_genres = genres.merge(weights, left_index=True,right_index=True)\r\n",
    "df_genres = df_genres.merge(frequency, left_on='genre', right_on='genre').set_index('genre')\r\n",
    "df_genres.head()"
   ]
  },
  {
   "cell_type": "code",
   "execution_count": 118,
   "metadata": {},
   "outputs": [],
   "source": [
    "# vector functions\r\n",
    "def get_genre_vector(genre):\r\n",
    "    return np.array(list(df_genres.loc[genre,0:63]))\r\n",
    "\r\n",
    "def distance(vec1, vec2):\r\n",
    "    return cosine(vec1, vec2)\r\n",
    "\r\n",
    "def closest_genres(vec, qty = 10):\r\n",
    "    distances = {\r\n",
    "        genre: distance(vec, get_genre_vector(genre))\r\n",
    "        for genre in df_genres.index\r\n",
    "    }\r\n",
    "    return sorted(distances, key=lambda genre: distances[genre])[:qty]\r\n",
    "\r\n",
    "def furthest_genres(vec, qty = 10):\r\n",
    "    distances = {\r\n",
    "        genre: distance(vec, get_genre_vector(genre))\r\n",
    "        for genre in df_genres.index\r\n",
    "    }\r\n",
    "    return sorted(distances, key=lambda genre: distances[genre])[-qty:]\r\n",
    "\r\n",
    "def closest_genre(vec):\r\n",
    "    return closest_genres(vec)[0] "
   ]
  },
  {
   "cell_type": "code",
   "execution_count": 87,
   "metadata": {},
   "outputs": [
    {
     "data": {
      "text/plain": [
       "array([-0.23584053, -0.3386798 ,  0.3369154 , -0.30271327,  0.343173  ])"
      ]
     },
     "execution_count": 87,
     "metadata": {},
     "output_type": "execute_result"
    }
   ],
   "source": [
    "# test\r\n",
    "get_genre_vector('funk')[:5]"
   ]
  },
  {
   "cell_type": "code",
   "execution_count": 88,
   "metadata": {},
   "outputs": [
    {
     "data": {
      "text/plain": [
       "1.092089863858045"
      ]
     },
     "execution_count": 88,
     "metadata": {},
     "output_type": "execute_result"
    }
   ],
   "source": [
    "# test 2\r\n",
    "funk_vec = get_genre_vector('funk')\r\n",
    "rock_vec = get_genre_vector('rock')\r\n",
    "distance(funk_vec,rock_vec)\r\n"
   ]
  },
  {
   "cell_type": "code",
   "execution_count": 89,
   "metadata": {},
   "outputs": [
    {
     "data": {
      "text/plain": [
       "['philly soul',\n",
       " 'post-disco',\n",
       " 'memphis soul',\n",
       " 'classic soul',\n",
       " 'soul',\n",
       " 'southern soul',\n",
       " 'quiet storm',\n",
       " 'rare groove',\n",
       " 'disco',\n",
       " 'new jack swing']"
      ]
     },
     "execution_count": 89,
     "metadata": {},
     "output_type": "execute_result"
    }
   ],
   "source": [
    "# test 3\r\n",
    "closest_genres(funk_vec)"
   ]
  },
  {
   "cell_type": "markdown",
   "metadata": {},
   "source": [
    "These genres appear much more relevant. So these vectors seem to work better for associating similar vectors!"
   ]
  },
  {
   "cell_type": "markdown",
   "metadata": {},
   "source": [
    "## Exploring distances\r\n",
    "\r\n",
    "I wanted to gain some intuitive for distances of similar genres and very disperate genres. Similar genres seem to be separated by a distance of ~0.2 while disimilar genres were separated by a distance of ~1.2."
   ]
  },
  {
   "cell_type": "code",
   "execution_count": 90,
   "metadata": {},
   "outputs": [
    {
     "data": {
      "text/plain": [
       "'classic country pop'"
      ]
     },
     "execution_count": 90,
     "metadata": {},
     "output_type": "execute_result"
    }
   ],
   "source": [
    "furthest_genres(get_genre_vector('trance'))[-1]"
   ]
  },
  {
   "cell_type": "code",
   "execution_count": 91,
   "metadata": {},
   "outputs": [
    {
     "data": {
      "text/plain": [
       "1.1878067320680745"
      ]
     },
     "execution_count": 91,
     "metadata": {},
     "output_type": "execute_result"
    }
   ],
   "source": [
    "distance(get_genre_vector('trance'), get_genre_vector('broadway'))"
   ]
  },
  {
   "cell_type": "code",
   "execution_count": 92,
   "metadata": {},
   "outputs": [
    {
     "data": {
      "text/plain": [
       "'progressive house'"
      ]
     },
     "execution_count": 92,
     "metadata": {},
     "output_type": "execute_result"
    }
   ],
   "source": [
    "closest_genre(get_genre_vector('trance'))"
   ]
  },
  {
   "cell_type": "code",
   "execution_count": 93,
   "metadata": {},
   "outputs": [
    {
     "data": {
      "text/plain": [
       "0.16542969949260522"
      ]
     },
     "execution_count": 93,
     "metadata": {},
     "output_type": "execute_result"
    }
   ],
   "source": [
    "distance(get_genre_vector('trance'), get_genre_vector('pop edm'))"
   ]
  },
  {
   "cell_type": "markdown",
   "metadata": {},
   "source": [
    "## Adding genres together to make new genres\r\n",
    "\r\n",
    "I experimented with achieving new genres by simply adding two similar genres together. This appeared to work fairly well, with rock + reggae achieving ska and country + rap achieving country rap. I also attempted the process in reverse, subtracking rock from ska. This appeared to work fairly well as well."
   ]
  },
  {
   "cell_type": "code",
   "execution_count": 94,
   "metadata": {},
   "outputs": [
    {
     "data": {
      "text/plain": [
       "['rock steady',\n",
       " 'reggae',\n",
       " 'roots reggae',\n",
       " 'ska revival',\n",
       " 'lovers rock',\n",
       " 'old school dancehall',\n",
       " 'ska',\n",
       " 'dancehall',\n",
       " 'modern reggae',\n",
       " 'reggae fusion']"
      ]
     },
     "execution_count": 94,
     "metadata": {},
     "output_type": "execute_result"
    }
   ],
   "source": [
    "# ska should loosely be reggae + rock\r\n",
    "\r\n",
    "closest_genres(get_genre_vector('reggae') + get_genre_vector('rock'))"
   ]
  },
  {
   "cell_type": "code",
   "execution_count": 95,
   "metadata": {},
   "outputs": [
    {
     "data": {
      "text/plain": [
       "['country rap',\n",
       " 'country',\n",
       " 'southern hip hop',\n",
       " 'rap',\n",
       " 'memphis hip hop',\n",
       " 'dirty south rap',\n",
       " 'atl trap',\n",
       " 'underground hip hop',\n",
       " 'modern country rock',\n",
       " 'oklahoma country']"
      ]
     },
     "execution_count": 95,
     "metadata": {},
     "output_type": "execute_result"
    }
   ],
   "source": [
    "# perhaps rap and country will produce rap country?\r\n",
    "\r\n",
    "closest_genres(get_genre_vector('rap') + get_genre_vector('country'),10)"
   ]
  },
  {
   "cell_type": "code",
   "execution_count": 96,
   "metadata": {},
   "outputs": [
    {
     "data": {
      "text/plain": [
       "['ska revival',\n",
       " 'melodic hardcore',\n",
       " 'ska punk',\n",
       " 'modern reggae',\n",
       " 'old school dancehall',\n",
       " 'reggae',\n",
       " 'lovers rock',\n",
       " 'dancehall',\n",
       " 'roots reggae',\n",
       " 'oi']"
      ]
     },
     "execution_count": 96,
     "metadata": {},
     "output_type": "execute_result"
    }
   ],
   "source": [
    "# Does subtraction work as well? Should hopefully get 'reggae'\r\n",
    "\r\n",
    "closest_genres((get_genre_vector('ska') - get_genre_vector('rock')))"
   ]
  },
  {
   "cell_type": "markdown",
   "metadata": {},
   "source": [
    "## PCA Visualization of genres + Count\r\n",
    "\r\n",
    "To guide some more complex usages of my vector functions, I wanted to have a rough visual of how genres are placed in reference to each other. Obviously, I cannot conceptualize 64 dimensions, so a dimensional reduction will have to suffice. Note: the resulting 3D scatter plot from plotly does not render in static environments. Also, the color and size of each marker are indicative of quantity of occurances of the genre the datapoint represents. An example of the 3D render is seen in the image below.\r\n",
    "\r\n",
    "![pca screenshot](img\\pca.png)"
   ]
  },
  {
   "cell_type": "markdown",
   "metadata": {},
   "source": [
    "## Subtracting to find common differences\r\n",
    "\r\n",
    "I attempted to achieve similar changes within different \"genre clusters\" (e.g. rap, rock, etc). However, this more complex functionality did not really seem to work. "
   ]
  },
  {
   "cell_type": "code",
   "execution_count": 98,
   "metadata": {},
   "outputs": [
    {
     "data": {
      "text/plain": [
       "['rock',\n",
       " 'heartland rock',\n",
       " 'country rock',\n",
       " 'british blues',\n",
       " 'british folk',\n",
       " 'hard rock',\n",
       " 'roots rock',\n",
       " 'symphonic rock',\n",
       " 'album rock',\n",
       " 'folk rock']"
      ]
     },
     "output_type": "unknown"
    }
   ],
   "source": [
    "closest_genres(get_genre_vector('rap'))"
   ]
  },
  {
   "cell_type": "code",
   "execution_count": 99,
   "metadata": {},
   "outputs": [
    {
     "data": {
      "text/html": [
       "<div>\n",
       "<style scoped>\n",
       "    .dataframe tbody tr th:only-of-type {\n",
       "        vertical-align: middle;\n",
       "    }\n",
       "\n",
       "    .dataframe tbody tr th {\n",
       "        vertical-align: top;\n",
       "    }\n",
       "\n",
       "    .dataframe thead th {\n",
       "        text-align: right;\n",
       "    }\n",
       "</style>\n",
       "<table border=\"1\" class=\"dataframe\">\n",
       "  <thead>\n",
       "    <tr style=\"text-align: right;\">\n",
       "      <th></th>\n",
       "      <th>0</th>\n",
       "      <th>1</th>\n",
       "      <th>2</th>\n",
       "      <th>genre</th>\n",
       "      <th>occurances</th>\n",
       "    </tr>\n",
       "  </thead>\n",
       "  <tbody>\n",
       "    <tr>\n",
       "      <th>0</th>\n",
       "      <td>-1.146586</td>\n",
       "      <td>-0.453093</td>\n",
       "      <td>-0.805100</td>\n",
       "      <td>rock</td>\n",
       "      <td>611</td>\n",
       "    </tr>\n",
       "    <tr>\n",
       "      <th>1</th>\n",
       "      <td>0.681294</td>\n",
       "      <td>0.320412</td>\n",
       "      <td>0.013808</td>\n",
       "      <td>pop</td>\n",
       "      <td>593</td>\n",
       "    </tr>\n",
       "    <tr>\n",
       "      <th>2</th>\n",
       "      <td>1.166946</td>\n",
       "      <td>0.322607</td>\n",
       "      <td>-0.462125</td>\n",
       "      <td>dance pop</td>\n",
       "      <td>572</td>\n",
       "    </tr>\n",
       "  </tbody>\n",
       "</table>\n",
       "</div>"
      ],
      "text/plain": [
       "          0         1         2      genre  occurances\n",
       "0 -1.146586 -0.453093 -0.805100       rock         611\n",
       "1  0.681294  0.320412  0.013808        pop         593\n",
       "2  1.166946  0.322607 -0.462125  dance pop         572"
      ]
     },
     "execution_count": 99,
     "metadata": {},
     "output_type": "execute_result"
    }
   ],
   "source": [
    "# if looking in the \"rap cluster\", r&b is near by. I would describe the contextual difference of rap\r\n",
    "# and r&b to be that r&b is a \"softer\" genre within this cluster. Apply this \"softness\" difference\r\n",
    "# to a different large cluster, say \"rock\", and see what specific rock genres it recommends.\r\n",
    "# hopefully they will be \"softer\" rock genres\r\n",
    "\r\n",
    "closest_genres(get_genre_vector('gangster rap') + (get_genre_vector('soft rock') - get_genre_vector('rock')))"
   ]
  },
  {
   "cell_type": "code",
   "execution_count": 100,
   "metadata": {},
   "outputs": [
    {
     "data": {
      "application/vnd.plotly.v1+json": {
       "config": {
        "plotlyServerURL": "https://plot.ly"
       },
       "data": [
        {
         "customdata": [
          [
           "rock"
          ],
          [
           "pop"
          ],
          [
           "dance pop"
          ],
          [
           "rap"
          ],
          [
           "hip hop"
          ],
          [
           "pop rap"
          ],
          [
           "modern rock"
          ],
          [
           "pop rock"
          ],
          [
           "country rock"
          ],
          [
           "urban contemporary"
          ],
          [
           "folk rock"
          ],
          [
           "latin"
          ],
          [
           "soft rock"
          ],
          [
           "trap"
          ],
          [
           "mellow gold"
          ],
          [
           "funk"
          ],
          [
           "classic rock"
          ],
          [
           "adult standards"
          ],
          [
           "pop dance"
          ],
          [
           "indie pop"
          ],
          [
           "album rock"
          ],
          [
           "alternative rock"
          ],
          [
           "southern hip hop"
          ],
          [
           "indie rock"
          ],
          [
           "gangster rap"
          ],
          [
           "alternative metal"
          ],
          [
           "country"
          ],
          [
           "new wave pop"
          ],
          [
           "regional mexican"
          ],
          [
           "soul"
          ],
          [
           "r&b"
          ],
          [
           "post-teen pop"
          ],
          [
           "tropical"
          ],
          [
           "quiet storm"
          ],
          [
           "folk"
          ],
          [
           "art rock"
          ],
          [
           "hard rock"
          ],
          [
           "dance rock"
          ],
          [
           "classical performance"
          ],
          [
           "roots rock"
          ],
          [
           "edm"
          ],
          [
           "brill building pop"
          ],
          [
           "indie folk"
          ],
          [
           "electropop"
          ],
          [
           "contemporary country"
          ],
          [
           "hip pop"
          ],
          [
           "blues rock"
          ],
          [
           "underground hip hop"
          ],
          [
           "corrido"
          ],
          [
           "stomp and holler"
          ],
          [
           "motown"
          ],
          [
           "classic soul"
          ],
          [
           "punk"
          ],
          [
           "latin pop"
          ],
          [
           "show tunes"
          ],
          [
           "new wave"
          ],
          [
           "traditional folk"
          ],
          [
           "disco"
          ],
          [
           "nu metal"
          ],
          [
           "country road"
          ],
          [
           "hardcore hip hop"
          ],
          [
           "pop punk"
          ],
          [
           "cool jazz"
          ],
          [
           "new jack swing"
          ],
          [
           "neo soul"
          ],
          [
           "hollywood"
          ],
          [
           "lounge"
          ],
          [
           "classical"
          ],
          [
           "rock-and-roll"
          ],
          [
           "bebop"
          ],
          [
           "neo mellow"
          ],
          [
           "modern alternative rock"
          ],
          [
           "psychedelic rock"
          ],
          [
           "alternative hip hop"
          ],
          [
           "jazz"
          ],
          [
           "reggaeton"
          ],
          [
           "new romantic"
          ],
          [
           "new americana"
          ],
          [
           "dirty south rap"
          ],
          [
           "soul jazz"
          ],
          [
           "metal"
          ],
          [
           "classic uk pop"
          ],
          [
           "vocal jazz"
          ],
          [
           "electro house"
          ],
          [
           "contemporary post-bop"
          ],
          [
           "indie poptimism"
          ],
          [
           "nuevo regional mexicano"
          ],
          [
           "tropical house"
          ],
          [
           "latin hip hop"
          ],
          [
           "hard bop"
          ],
          [
           "bubblegum pop"
          ],
          [
           "filmi"
          ],
          [
           "electronica"
          ],
          [
           "jazz funk"
          ],
          [
           "trap latino"
          ],
          [
           "post-disco"
          ],
          [
           "movie tunes"
          ],
          [
           "big band"
          ],
          [
           "ccm"
          ],
          [
           "rock en espanol"
          ],
          [
           "worship"
          ],
          [
           "christian music"
          ],
          [
           "alternative r&b"
          ],
          [
           "art pop"
          ],
          [
           "southern soul"
          ],
          [
           "east coast hip hop"
          ],
          [
           "broadway"
          ],
          [
           "europop"
          ],
          [
           "atl hip hop"
          ],
          [
           "jazz fusion"
          ],
          [
           "opera"
          ],
          [
           "orchestral performance"
          ],
          [
           "lilith"
          ],
          [
           "easy listening"
          ],
          [
           "rhythm and blues"
          ],
          [
           "rap rock"
          ],
          [
           "blues"
          ],
          [
           "freak folk"
          ],
          [
           "swing"
          ],
          [
           "alternative dance"
          ],
          [
           "christian alternative rock"
          ],
          [
           "dance-punk"
          ],
          [
           "indie soul"
          ],
          [
           "singer-songwriter"
          ],
          [
           "emo"
          ],
          [
           "salsa"
          ],
          [
           "reggae"
          ],
          [
           "pop r&b"
          ],
          [
           "permanent wave"
          ],
          [
           "post-punk"
          ],
          [
           "stride"
          ],
          [
           "modern country rock"
          ],
          [
           "c-pop"
          ],
          [
           "latin alternative"
          ],
          [
           "electric blues"
          ],
          [
           "rockabilly"
          ],
          [
           "norteno"
          ],
          [
           "vapor trap"
          ],
          [
           "alternative country"
          ],
          [
           "ska"
          ],
          [
           "new rave"
          ],
          [
           "emo rap"
          ],
          [
           "classical piano"
          ],
          [
           "comic"
          ],
          [
           "pub rock"
          ],
          [
           "gospel"
          ],
          [
           "hip house"
          ],
          [
           "doo-wop"
          ],
          [
           "texas country"
          ],
          [
           "post-grunge"
          ],
          [
           "screamo"
          ],
          [
           "anthem worship"
          ],
          [
           "experimental"
          ],
          [
           "post-hardcore"
          ],
          [
           "indie garage rock"
          ],
          [
           "merseybeat"
          ],
          [
           "glam metal"
          ],
          [
           "roots reggae"
          ],
          [
           "jam band"
          ],
          [
           "soundtrack"
          ],
          [
           "latin rock"
          ],
          [
           "skate punk"
          ],
          [
           "indiecoustica"
          ],
          [
           "jazz saxophone"
          ],
          [
           "reggaeton flow"
          ],
          [
           "latin jazz"
          ],
          [
           "smooth jazz"
          ],
          [
           "bossa nova"
          ],
          [
           "synthpop"
          ],
          [
           "acoustic pop"
          ],
          [
           "orchestra"
          ],
          [
           "traditional blues"
          ],
          [
           "viral pop"
          ],
          [
           "progressive bluegrass"
          ],
          [
           "metalcore"
          ],
          [
           "sleep"
          ],
          [
           "yacht rock"
          ],
          [
           "indietronica"
          ],
          [
           "classic bollywood"
          ],
          [
           "electro"
          ],
          [
           "progressive house"
          ],
          [
           "symphonic rock"
          ],
          [
           "melodic metalcore"
          ],
          [
           "chillwave"
          ],
          [
           "uk post-punk"
          ],
          [
           "children's music"
          ],
          [
           "country pop"
          ],
          [
           "world worship"
          ],
          [
           "classical soprano"
          ],
          [
           "melodic rap"
          ],
          [
           "compositional ambient"
          ],
          [
           "sufi"
          ],
          [
           "deep regional mexican"
          ],
          [
           "grupera"
          ],
          [
           "otacore"
          ],
          [
           "banda"
          ],
          [
           "redneck"
          ],
          [
           "cali rap"
          ],
          [
           "sad rap"
          ],
          [
           "pop edm"
          ],
          [
           "mpb"
          ],
          [
           "vapor soul"
          ],
          [
           "big room"
          ],
          [
           "disney"
          ],
          [
           "rock steady"
          ],
          [
           "k-pop"
          ],
          [
           "industrial metal"
          ],
          [
           "turntablism"
          ],
          [
           "power pop"
          ],
          [
           "social media pop"
          ],
          [
           "heartland rock"
          ],
          [
           "west coast rap"
          ],
          [
           "house"
          ],
          [
           "scorecore"
          ],
          [
           "outlaw country"
          ],
          [
           "classic mandopop"
          ],
          [
           "conscious hip hop"
          ],
          [
           "escape room"
          ],
          [
           "shimmer pop"
          ],
          [
           "salsa international"
          ],
          [
           "classic soundtrack"
          ],
          [
           "new age"
          ],
          [
           "modern bollywood"
          ],
          [
           "modern blues rock"
          ],
          [
           "mexican pop"
          ],
          [
           "country dawn"
          ],
          [
           "lo-fi beats"
          ],
          [
           "melancholia"
          ],
          [
           "progressive rock"
          ],
          [
           "old school hip hop"
          ],
          [
           "metropopolis"
          ],
          [
           "lovers rock"
          ],
          [
           "chanson"
          ],
          [
           "bluegrass"
          ],
          [
           "samba"
          ],
          [
           "trip hop"
          ],
          [
           "dub"
          ],
          [
           "dark trap"
          ],
          [
           "ranchera"
          ],
          [
           "indie cafe pop"
          ],
          [
           "anti-folk"
          ],
          [
           "hardcore punk"
          ],
          [
           "southern rock"
          ],
          [
           "punk blues"
          ],
          [
           "classic garage rock"
          ],
          [
           "desi pop"
          ],
          [
           "deep new americana"
          ],
          [
           "neon pop punk"
          ],
          [
           "piano rock"
          ],
          [
           "west coast trap"
          ],
          [
           "cumbia sonidera"
          ],
          [
           "ska punk"
          ],
          [
           "environmental"
          ],
          [
           "classic country pop"
          ],
          [
           "modern blues"
          ],
          [
           "nu gaze"
          ],
          [
           "eurodance"
          ],
          [
           "free jazz"
          ],
          [
           "appalachian folk"
          ],
          [
           "jazz piano"
          ],
          [
           "mandopop"
          ],
          [
           "g funk"
          ],
          [
           "nu jazz"
          ],
          [
           "post-romantic era"
          ],
          [
           "british blues"
          ],
          [
           "disco house"
          ],
          [
           "old-time"
          ],
          [
           "lo-fi"
          ],
          [
           "early modern classical"
          ],
          [
           "bolero"
          ],
          [
           "latin christian"
          ],
          [
           "tejano"
          ],
          [
           "opm"
          ],
          [
           "chicago rap"
          ],
          [
           "reggae fusion"
          ],
          [
           "latin arena pop"
          ],
          [
           "crunk"
          ],
          [
           "pop romantico"
          ],
          [
           "electronic trap"
          ],
          [
           "downtempo"
          ],
          [
           "alternative pop"
          ],
          [
           "classic cantopop"
          ],
          [
           "velha guarda"
          ],
          [
           "garage rock"
          ],
          [
           "country rap"
          ],
          [
           "dancehall"
          ],
          [
           "sierreno"
          ],
          [
           "melodic hardcore"
          ],
          [
           "protopunk"
          ],
          [
           "avant-garde jazz"
          ],
          [
           "funk metal"
          ],
          [
           "gruperas inmortales"
          ],
          [
           "mariachi"
          ],
          [
           "industrial rock"
          ],
          [
           "british invasion"
          ],
          [
           "spanish pop"
          ],
          [
           "christian rock"
          ],
          [
           "australian pop"
          ],
          [
           "grunge"
          ],
          [
           "pop emo"
          ],
          [
           "boy band"
          ],
          [
           "indie r&b"
          ],
          [
           "alternative emo"
          ],
          [
           "glam rock"
          ],
          [
           "jazz trumpet"
          ],
          [
           "freakbeat"
          ],
          [
           "contemporary jazz"
          ],
          [
           "canadian indie"
          ],
          [
           "christian pop"
          ],
          [
           "indie anthem-folk"
          ],
          [
           "classic italian pop"
          ],
          [
           "uk pop"
          ],
          [
           "meme rap"
          ],
          [
           "britpop"
          ],
          [
           "chicano rap"
          ],
          [
           "big beat"
          ],
          [
           "canadian pop"
          ],
          [
           "merengue"
          ],
          [
           "chillhop"
          ],
          [
           "gbvfi"
          ],
          [
           "late romantic era"
          ],
          [
           "american folk revival"
          ],
          [
           "progressive electro house"
          ],
          [
           "ghazal"
          ],
          [
           "old school dancehall"
          ],
          [
           "hyphy"
          ],
          [
           "jazz guitar"
          ],
          [
           "comedy"
          ],
          [
           "sophisti-pop"
          ],
          [
           "jawaiian"
          ],
          [
           "latin worship"
          ],
          [
           "background music"
          ],
          [
           "indie punk"
          ],
          [
           "classic canadian rock"
          ],
          [
           "chamber psych"
          ],
          [
           "french pop"
          ],
          [
           "chamber pop"
          ],
          [
           "rebetiko"
          ],
          [
           "j-poprock"
          ],
          [
           "hawaiian"
          ],
          [
           "celtic"
          ],
          [
           "acoustic blues"
          ],
          [
           "dream pop"
          ],
          [
           "j-pop"
          ],
          [
           "world"
          ],
          [
           "reggae rock"
          ],
          [
           "trance"
          ],
          [
           "death metal"
          ],
          [
           "choral"
          ],
          [
           "trap queen"
          ],
          [
           "power metal"
          ],
          [
           "shoegaze"
          ],
          [
           "folk-pop"
          ],
          [
           "philly soul"
          ],
          [
           "progressive trance"
          ],
          [
           "old school thrash"
          ],
          [
           "cantopop"
          ],
          [
           "early music"
          ],
          [
           "historic orchestral performance"
          ],
          [
           "classical bass"
          ],
          [
           "la indie"
          ],
          [
           "neo-psychedelic"
          ],
          [
           "rap metal"
          ],
          [
           "classical tenor"
          ],
          [
           "argentine rock"
          ],
          [
           "torch song"
          ],
          [
           "video game music"
          ],
          [
           "ambient"
          ],
          [
           "dominican pop"
          ],
          [
           "dreamo"
          ],
          [
           "afropop"
          ],
          [
           "bubblegum dance"
          ],
          [
           "industrial"
          ],
          [
           "vapor twitch"
          ],
          [
           "nashville sound"
          ],
          [
           "modern funk"
          ],
          [
           "jazz blues"
          ],
          [
           "violin"
          ],
          [
           "chicago blues"
          ],
          [
           "bow pop"
          ],
          [
           "indian classical"
          ],
          [
           "thrash metal"
          ],
          [
           "exotica"
          ],
          [
           "uplifting trance"
          ],
          [
           "experimental rock"
          ],
          [
           "underground rap"
          ],
          [
           "afrobeat"
          ],
          [
           "mexican rock-and-roll"
          ],
          [
           "vintage chanson"
          ],
          [
           "nueva cancion"
          ],
          [
           "gothic rock"
          ],
          [
           "space age pop"
          ],
          [
           "pixie"
          ],
          [
           "freestyle"
          ],
          [
           "neo-classical"
          ],
          [
           "girl group"
          ],
          [
           "banjo"
          ],
          [
           "cantautor"
          ],
          [
           "australian rock"
          ],
          [
           "red dirt"
          ],
          [
           "funk rock"
          ],
          [
           "british folk"
          ],
          [
           "vocal house"
          ],
          [
           "italian adult pop"
          ],
          [
           "miami hip hop"
          ],
          [
           "contemporary gospel"
          ],
          [
           "focus"
          ],
          [
           "baroque pop"
          ],
          [
           "post-screamo"
          ],
          [
           "viral rap"
          ],
          [
           "trap soul"
          ],
          [
           "candy pop"
          ],
          [
           "country blues"
          ],
          [
           "bachata"
          ],
          [
           "traditional country"
          ],
          [
           "classic opm"
          ],
          [
           "indie electropop"
          ],
          [
           "vintage chinese pop"
          ],
          [
           "deep adult standards"
          ],
          [
           "oklahoma country"
          ],
          [
           "mexican rock"
          ],
          [
           "bronx hip hop"
          ],
          [
           "ragtime"
          ],
          [
           "neo classical metal"
          ],
          [
           "deep indian pop"
          ],
          [
           "groove metal"
          ],
          [
           "vintage jazz"
          ],
          [
           "bedroom pop"
          ],
          [
           "meditation"
          ],
          [
           "fourth world"
          ],
          [
           "noise pop"
          ],
          [
           "perreo"
          ],
          [
           "chamber orchestra"
          ],
          [
           "folk punk"
          ],
          [
           "rumba"
          ],
          [
           "irish folk"
          ],
          [
           "beatlesque"
          ],
          [
           "bass trap"
          ],
          [
           "modern reggae"
          ],
          [
           "memphis soul"
          ],
          [
           "anime"
          ],
          [
           "future bass"
          ],
          [
           "brostep"
          ],
          [
           "jazz drums"
          ],
          [
           "deep house"
          ],
          [
           "corridos tumbados"
          ],
          [
           "queens hip hop"
          ],
          [
           "salsa puertorriquena"
          ],
          [
           "new orleans jazz"
          ],
          [
           "canadian rock"
          ],
          [
           "canzone napoletana"
          ],
          [
           "ninja"
          ],
          [
           "australian dance"
          ],
          [
           "roots worship"
          ],
          [
           "zolo"
          ],
          [
           "post-rock"
          ],
          [
           "british orchestra"
          ],
          [
           "uk dance"
          ],
          [
           "vintage italian pop"
          ],
          [
           "christmas instrumental"
          ],
          [
           "houston rap"
          ],
          [
           "memphis hip hop"
          ],
          [
           "surf music"
          ],
          [
           "indie pop rap"
          ],
          [
           "cumbia"
          ],
          [
           "japanese city pop"
          ],
          [
           "roots americana"
          ],
          [
           "ecm-style jazz"
          ],
          [
           "anime score"
          ],
          [
           "praise"
          ],
          [
           "modern folk rock"
          ],
          [
           "vocal harmony group"
          ],
          [
           "jazz trio"
          ],
          [
           "gaming edm"
          ],
          [
           "calming instrumental"
          ],
          [
           "operatic pop"
          ],
          [
           "italian tenor"
          ],
          [
           "sleaze rock"
          ],
          [
           "swedish pop"
          ],
          [
           "vintage hollywood"
          ],
          [
           "speed metal"
          ],
          [
           "oi"
          ],
          [
           "anthem emo"
          ],
          [
           "filter house"
          ],
          [
           "epicore"
          ],
          [
           "northern soul"
          ],
          [
           "baroque"
          ],
          [
           "rock nacional"
          ],
          [
           "atl trap"
          ],
          [
           "australian indie"
          ],
          [
           "deep underground hip hop"
          ],
          [
           "preschool children's music"
          ],
          [
           "bachata dominicana"
          ],
          [
           "canadian singer-songwriter"
          ],
          [
           "christian relaxative"
          ],
          [
           "drone"
          ],
          [
           "hungarian classical performance"
          ],
          [
           "banda caliente"
          ],
          [
           "philly rap"
          ],
          [
           "historically informed performance"
          ],
          [
           "diva house"
          ],
          [
           "chicago house"
          ],
          [
           "cartoon"
          ],
          [
           "deathcore"
          ],
          [
           "american classical piano"
          ],
          [
           "boston rock"
          ],
          [
           "dark wave"
          ],
          [
           "library music"
          ],
          [
           "french romanticism"
          ],
          [
           "neo-synthpop"
          ],
          [
           "historic piano performance"
          ],
          [
           "classical mezzo-soprano"
          ],
          [
           "celtic rock"
          ],
          [
           "tin pan alley"
          ],
          [
           "free improvisation"
          ],
          [
           "british soul"
          ],
          [
           "new age piano"
          ],
          [
           "deep big room"
          ],
          [
           "white noise"
          ],
          [
           "sound"
          ],
          [
           "k-pop boy group"
          ],
          [
           "rare groove"
          ],
          [
           "calypso"
          ],
          [
           "avant-garde"
          ],
          [
           "political hip hop"
          ],
          [
           "nyc rap"
          ],
          [
           "louisiana blues"
          ],
          [
           "brazilian jazz"
          ],
          [
           "nu disco"
          ],
          [
           "classical cello"
          ],
          [
           "intelligent dance music"
          ],
          [
           "vintage tango"
          ],
          [
           "pagode"
          ],
          [
           "soul blues"
          ],
          [
           "antiviral pop"
          ],
          [
           "musica tradicional cubana"
          ],
          [
           "hi-nrg"
          ],
          [
           "j-rock"
          ],
          [
           "afrofuturism"
          ],
          [
           "space rock"
          ],
          [
           "stoner rock"
          ],
          [
           "ska revival"
          ]
         ],
         "hovertemplate": "0=%{x}<br>1=%{y}<br>2=%{z}<br>occurances=%{marker.color}<br>genre=%{customdata[0]}<extra></extra>",
         "legendgroup": "",
         "marker": {
          "color": [
           611,
           593,
           572,
           516,
           507,
           482,
           400,
           400,
           394,
           383,
           381,
           380,
           372,
           361,
           358,
           351,
           335,
           335,
           333,
           324,
           322,
           322,
           322,
           317,
           312,
           301,
           299,
           298,
           298,
           296,
           294,
           290,
           286,
           281,
           272,
           269,
           269,
           265,
           260,
           259,
           256,
           242,
           239,
           238,
           238,
           237,
           234,
           234,
           231,
           227,
           224,
           219,
           217,
           216,
           211,
           207,
           206,
           206,
           205,
           202,
           200,
           191,
           190,
           190,
           188,
           187,
           187,
           185,
           183,
           182,
           181,
           179,
           176,
           176,
           175,
           175,
           173,
           172,
           171,
           170,
           170,
           169,
           168,
           167,
           163,
           162,
           161,
           161,
           160,
           159,
           158,
           158,
           157,
           156,
           155,
           152,
           151,
           151,
           150,
           150,
           150,
           149,
           146,
           144,
           144,
           144,
           140,
           140,
           140,
           139,
           139,
           134,
           132,
           131,
           130,
           130,
           129,
           129,
           129,
           128,
           125,
           123,
           123,
           122,
           121,
           120,
           119,
           117,
           117,
           116,
           115,
           115,
           115,
           112,
           112,
           112,
           112,
           110,
           109,
           108,
           108,
           106,
           105,
           105,
           105,
           103,
           103,
           102,
           101,
           99,
           99,
           99,
           99,
           98,
           98,
           98,
           98,
           97,
           97,
           97,
           96,
           96,
           95,
           95,
           95,
           95,
           95,
           95,
           95,
           94,
           94,
           92,
           92,
           91,
           91,
           91,
           91,
           90,
           90,
           90,
           89,
           89,
           89,
           88,
           88,
           88,
           87,
           87,
           86,
           86,
           86,
           84,
           83,
           83,
           82,
           81,
           80,
           79,
           78,
           78,
           78,
           78,
           78,
           78,
           77,
           77,
           77,
           77,
           76,
           76,
           76,
           76,
           76,
           76,
           75,
           75,
           75,
           74,
           74,
           74,
           74,
           73,
           72,
           72,
           72,
           72,
           71,
           71,
           70,
           70,
           70,
           70,
           70,
           70,
           69,
           69,
           69,
           68,
           68,
           68,
           68,
           68,
           67,
           66,
           66,
           66,
           65,
           65,
           64,
           64,
           64,
           64,
           63,
           63,
           63,
           62,
           62,
           61,
           61,
           61,
           61,
           61,
           60,
           60,
           59,
           59,
           59,
           59,
           58,
           58,
           58,
           58,
           58,
           57,
           57,
           57,
           57,
           56,
           56,
           56,
           56,
           56,
           56,
           56,
           55,
           55,
           55,
           55,
           54,
           54,
           54,
           54,
           53,
           53,
           53,
           53,
           53,
           53,
           52,
           52,
           52,
           52,
           52,
           52,
           52,
           51,
           51,
           51,
           51,
           51,
           51,
           51,
           50,
           50,
           50,
           50,
           50,
           50,
           50,
           50,
           49,
           49,
           49,
           48,
           48,
           48,
           48,
           48,
           48,
           48,
           48,
           48,
           47,
           47,
           47,
           47,
           47,
           47,
           46,
           46,
           46,
           46,
           46,
           45,
           45,
           45,
           45,
           45,
           45,
           45,
           45,
           45,
           45,
           45,
           44,
           44,
           44,
           44,
           44,
           44,
           44,
           44,
           44,
           44,
           44,
           44,
           44,
           43,
           43,
           43,
           43,
           43,
           43,
           43,
           43,
           43,
           43,
           43,
           43,
           43,
           42,
           42,
           42,
           42,
           42,
           42,
           41,
           41,
           41,
           41,
           41,
           41,
           41,
           40,
           40,
           40,
           40,
           40,
           40,
           40,
           40,
           40,
           39,
           39,
           39,
           39,
           39,
           39,
           39,
           38,
           38,
           38,
           38,
           38,
           38,
           38,
           38,
           38,
           37,
           37,
           37,
           37,
           37,
           37,
           37,
           37,
           37,
           37,
           37,
           36,
           36,
           36,
           36,
           36,
           36,
           36,
           36,
           35,
           35,
           35,
           35,
           35,
           35,
           35,
           35,
           35,
           34,
           34,
           34,
           34,
           34,
           34,
           34,
           34,
           34,
           34,
           34,
           34,
           34,
           33,
           33,
           33,
           33,
           33,
           33,
           33,
           33,
           33,
           33,
           33,
           33,
           33,
           33,
           33,
           33,
           32,
           32,
           32,
           32,
           32,
           32,
           31,
           31,
           31,
           31,
           31,
           31,
           31,
           31,
           30,
           30,
           30,
           30,
           30,
           30,
           30,
           30,
           30,
           30,
           30,
           29,
           29,
           29,
           29,
           29,
           29,
           28,
           28,
           28,
           28,
           28,
           28,
           28,
           28,
           28,
           28,
           27,
           27,
           27,
           27,
           27,
           27,
           27,
           27,
           27,
           27,
           27,
           26,
           26,
           26,
           26,
           26,
           26,
           26,
           26,
           26,
           26,
           26,
           26,
           26,
           26,
           26
          ],
          "coloraxis": "coloraxis",
          "size": [
           611,
           593,
           572,
           516,
           507,
           482,
           400,
           400,
           394,
           383,
           381,
           380,
           372,
           361,
           358,
           351,
           335,
           335,
           333,
           324,
           322,
           322,
           322,
           317,
           312,
           301,
           299,
           298,
           298,
           296,
           294,
           290,
           286,
           281,
           272,
           269,
           269,
           265,
           260,
           259,
           256,
           242,
           239,
           238,
           238,
           237,
           234,
           234,
           231,
           227,
           224,
           219,
           217,
           216,
           211,
           207,
           206,
           206,
           205,
           202,
           200,
           191,
           190,
           190,
           188,
           187,
           187,
           185,
           183,
           182,
           181,
           179,
           176,
           176,
           175,
           175,
           173,
           172,
           171,
           170,
           170,
           169,
           168,
           167,
           163,
           162,
           161,
           161,
           160,
           159,
           158,
           158,
           157,
           156,
           155,
           152,
           151,
           151,
           150,
           150,
           150,
           149,
           146,
           144,
           144,
           144,
           140,
           140,
           140,
           139,
           139,
           134,
           132,
           131,
           130,
           130,
           129,
           129,
           129,
           128,
           125,
           123,
           123,
           122,
           121,
           120,
           119,
           117,
           117,
           116,
           115,
           115,
           115,
           112,
           112,
           112,
           112,
           110,
           109,
           108,
           108,
           106,
           105,
           105,
           105,
           103,
           103,
           102,
           101,
           99,
           99,
           99,
           99,
           98,
           98,
           98,
           98,
           97,
           97,
           97,
           96,
           96,
           95,
           95,
           95,
           95,
           95,
           95,
           95,
           94,
           94,
           92,
           92,
           91,
           91,
           91,
           91,
           90,
           90,
           90,
           89,
           89,
           89,
           88,
           88,
           88,
           87,
           87,
           86,
           86,
           86,
           84,
           83,
           83,
           82,
           81,
           80,
           79,
           78,
           78,
           78,
           78,
           78,
           78,
           77,
           77,
           77,
           77,
           76,
           76,
           76,
           76,
           76,
           76,
           75,
           75,
           75,
           74,
           74,
           74,
           74,
           73,
           72,
           72,
           72,
           72,
           71,
           71,
           70,
           70,
           70,
           70,
           70,
           70,
           69,
           69,
           69,
           68,
           68,
           68,
           68,
           68,
           67,
           66,
           66,
           66,
           65,
           65,
           64,
           64,
           64,
           64,
           63,
           63,
           63,
           62,
           62,
           61,
           61,
           61,
           61,
           61,
           60,
           60,
           59,
           59,
           59,
           59,
           58,
           58,
           58,
           58,
           58,
           57,
           57,
           57,
           57,
           56,
           56,
           56,
           56,
           56,
           56,
           56,
           55,
           55,
           55,
           55,
           54,
           54,
           54,
           54,
           53,
           53,
           53,
           53,
           53,
           53,
           52,
           52,
           52,
           52,
           52,
           52,
           52,
           51,
           51,
           51,
           51,
           51,
           51,
           51,
           50,
           50,
           50,
           50,
           50,
           50,
           50,
           50,
           49,
           49,
           49,
           48,
           48,
           48,
           48,
           48,
           48,
           48,
           48,
           48,
           47,
           47,
           47,
           47,
           47,
           47,
           46,
           46,
           46,
           46,
           46,
           45,
           45,
           45,
           45,
           45,
           45,
           45,
           45,
           45,
           45,
           45,
           44,
           44,
           44,
           44,
           44,
           44,
           44,
           44,
           44,
           44,
           44,
           44,
           44,
           43,
           43,
           43,
           43,
           43,
           43,
           43,
           43,
           43,
           43,
           43,
           43,
           43,
           42,
           42,
           42,
           42,
           42,
           42,
           41,
           41,
           41,
           41,
           41,
           41,
           41,
           40,
           40,
           40,
           40,
           40,
           40,
           40,
           40,
           40,
           39,
           39,
           39,
           39,
           39,
           39,
           39,
           38,
           38,
           38,
           38,
           38,
           38,
           38,
           38,
           38,
           37,
           37,
           37,
           37,
           37,
           37,
           37,
           37,
           37,
           37,
           37,
           36,
           36,
           36,
           36,
           36,
           36,
           36,
           36,
           35,
           35,
           35,
           35,
           35,
           35,
           35,
           35,
           35,
           34,
           34,
           34,
           34,
           34,
           34,
           34,
           34,
           34,
           34,
           34,
           34,
           34,
           33,
           33,
           33,
           33,
           33,
           33,
           33,
           33,
           33,
           33,
           33,
           33,
           33,
           33,
           33,
           33,
           32,
           32,
           32,
           32,
           32,
           32,
           31,
           31,
           31,
           31,
           31,
           31,
           31,
           31,
           30,
           30,
           30,
           30,
           30,
           30,
           30,
           30,
           30,
           30,
           30,
           29,
           29,
           29,
           29,
           29,
           29,
           28,
           28,
           28,
           28,
           28,
           28,
           28,
           28,
           28,
           28,
           27,
           27,
           27,
           27,
           27,
           27,
           27,
           27,
           27,
           27,
           27,
           26,
           26,
           26,
           26,
           26,
           26,
           26,
           26,
           26,
           26,
           26,
           26,
           26,
           26,
           26
          ],
          "sizemode": "area",
          "sizeref": 1.5275,
          "symbol": "circle"
         },
         "mode": "markers",
         "name": "",
         "scene": "scene",
         "showlegend": false,
         "type": "scatter3d",
         "x": [
          -1.1465859988660532,
          0.6812941126671443,
          1.1669458539340067,
          1.3042160880213236,
          1.4311185094331724,
          1.3516326965855787,
          -0.9193168809660631,
          -0.6008821978612379,
          -1.3224926297620951,
          1.3401277038920696,
          -1.2273350710592792,
          0.17684939798063584,
          -1.2406324743923858,
          1.4729485130209703,
          -1.2168380106382446,
          0.4574577472386926,
          -1.407559682656929,
          -0.751414263049137,
          0.9105417057863876,
          -0.9264327259123482,
          -1.3232382915911196,
          -1.2284637751193546,
          1.4454913627825383,
          -0.9933483153088706,
          1.637033229405795,
          -0.5075337780337721,
          -0.1677735021288631,
          -1.3639122440400218,
          0.4749152513844431,
          0.3576562872831723,
          1.2983989410242842,
          0.9050640294930274,
          0.5170795100688093,
          1.0229728029321108,
          -1.174031598782246,
          -1.6754701962372494,
          -1.1708667462007563,
          -1.3177209673661816,
          0.5448397762716699,
          -1.631618205625825,
          0.8710407661390505,
          -0.20838998269438078,
          -0.6696140908888988,
          0.6453713510294214,
          0.17575562682890605,
          1.6600518702456017,
          -1.564433815393631,
          1.3099765935925836,
          0.30605159165030177,
          -0.5193658507472112,
          -0.14885207709644427,
          0.15890941000550968,
          -1.07506087925628,
          0.6051071369677584,
          0.6119120174287177,
          -0.9363761721221405,
          -1.057309306582227,
          0.2754304034065302,
          -0.9108015203422763,
          0.07246737707882442,
          1.3307140769020922,
          -0.37934356425854054,
          -0.14805872457018043,
          1.2033891626800866,
          1.3421110836653112,
          0.6739641274501991,
          -0.37013533040926,
          0.49861240533640105,
          -0.3412280176970102,
          -0.11406419566762231,
          0.2413175788640964,
          -0.2661561760711486,
          -1.5736439691650221,
          0.9211729001661629,
          -0.1519036238603941,
          0.3793662581184335,
          -1.1006238089969753,
          -0.8799830532713645,
          1.5134244830764367,
          -0.122538170640117,
          -1.082478676144864,
          -1.3469495719135134,
          -0.2068758825303763,
          1.092852643099195,
          -0.0780172546153472,
          -0.2835060229478364,
          0.6499647207607409,
          0.8392015925705021,
          0.3526065350889118,
          -0.12396709485911821,
          -1.0687300458028823,
          0.46635496152455025,
          -0.10497777135065152,
          -0.0801030497899904,
          0.5190908092051266,
          0.6554381671942484,
          0.5304424535587343,
          -0.07861563084627263,
          0.22454670285486358,
          0.16293107426406425,
          0.26741482146578466,
          0.19868155984196337,
          1.0121288532400141,
          -0.771851934077521,
          0.1646973723988691,
          1.4838476950772332,
          0.3467767526647941,
          0.6484108996024507,
          1.5827008328298857,
          -0.7517670108964964,
          0.34917510059556656,
          -0.032946378553535285,
          -0.5431021099049591,
          -0.23525733296425339,
          0.03231222031845162,
          -0.4988487578441171,
          -1.1405883880500247,
          -0.8931152066707282,
          0.0006282118461559002,
          -0.7090999198249545,
          0.089183334626127,
          -0.7747216761587609,
          0.7638380300175021,
          -1.635463135279451,
          -0.20854422962816413,
          0.4058375756421111,
          0.22014696782518445,
          1.5380368359722454,
          -1.0062468749779754,
          -1.2682940329124024,
          -0.10763486127474318,
          0.2910680981017781,
          0.19724332084934193,
          0.20241648661788633,
          -1.3025555081215405,
          -0.25683806371881923,
          0.5725873942322792,
          1.2635050192607422,
          -1.432222380377263,
          -0.4203214462755329,
          -0.4535641641129511,
          0.9176702046171198,
          0.634873136087453,
          -0.2730207502064634,
          -1.5472339731013953,
          0.265436118837471,
          0.9340223780077159,
          -0.21292629128633203,
          -0.8403243332832075,
          -0.5845823434094654,
          -0.09712915323512979,
          -0.048471680160006504,
          -1.302983639185243,
          -1.0524476518330144,
          -0.6007486154466778,
          -0.9402625204727557,
          -0.686710549828035,
          0.31814966740638295,
          -1.0941755679686094,
          0.49238861537793355,
          0.2348153533127598,
          -0.48009076233789627,
          0.3532507100371309,
          0.10679100524947599,
          0.2626172342439834,
          0.6059653452026564,
          -0.23628910874356357,
          -0.1241480381530258,
          -1.2083765834297124,
          -0.3194009513873213,
          0.6628814808427556,
          -0.7255940577938964,
          0.3996870991996552,
          -0.6669170066461733,
          -0.2892895927585463,
          0.20430516502762366,
          -1.4455741503518997,
          -0.08626914580947263,
          0.19544923256000754,
          1.2025733813318003,
          0.8079639629442523,
          -1.5562639387886177,
          -0.1786321005141583,
          -0.7134338752780187,
          -0.8319200363876874,
          0.05461743257670847,
          0.3920329002911086,
          0.2310952433715437,
          0.5258363779202998,
          1.439944264327409,
          0.09407748059661819,
          0.21825791907311165,
          0.44095281825829613,
          0.477478000463398,
          0.0340139191419748,
          0.5509523034900164,
          0.6405755590557628,
          0.3968002501714374,
          0.8042036977619063,
          0.8333268992288914,
          -0.12365553279060151,
          0.06273073311498845,
          1.1055927243107182,
          0.7550425642167079,
          0.10546474200372388,
          0.4723226495008222,
          -0.682287276402291,
          0.7529720420399797,
          -1.2821806902925872,
          0.5742153889222618,
          -1.5541108338635234,
          1.1716455663898275,
          0.7377861805620778,
          0.3169267356975027,
          -0.39289814335910594,
          0.3493277965812643,
          1.2836445073279494,
          0.533016704770734,
          -0.10336072147904828,
          0.4505643693603646,
          0.38052355193721693,
          -0.6403248185171074,
          0.09811731551900298,
          -1.05351225635825,
          0.7399478758186995,
          0.5204576797412049,
          0.4523259282758373,
          -1.4366773716274772,
          -1.5094294226259726,
          1.1376365581198888,
          -0.04556410685475035,
          0.30424665540733054,
          -0.1815330215597892,
          -0.44243207444247434,
          -0.1775830549853959,
          0.03502510525384759,
          0.17848036419117855,
          0.7079977050403369,
          0.4992674441699183,
          0.11580988692909838,
          -1.2351874636276352,
          -0.5433001175329115,
          -1.1624533422698158,
          -1.0492886440344313,
          -1.0923260608822751,
          -0.13482634344082456,
          -0.7275416931872971,
          0.017104998532867417,
          -1.1959640414730568,
          1.131481289005845,
          0.2598244112346682,
          -0.18128814205062294,
          0.4566819904997597,
          -0.43382679543036323,
          -1.0510024413463197,
          -0.7695584750402327,
          0.36254892148165097,
          -0.2271908295140136,
          -0.4818479414139567,
          -0.07671766459342637,
          0.2701878188724695,
          1.026344318794565,
          0.17633198321758176,
          0.42193774264314404,
          -0.8730350778037733,
          0.8718390137342427,
          -0.4023043711761291,
          -1.0187972462002617,
          0.72954786550661,
          1.0123919053500803,
          -0.00047485614052074566,
          0.4257166353695522,
          0.1738392015159396,
          1.2967679860739563,
          0.4149386794479477,
          0.5048554169211336,
          1.720462576621002,
          -0.06606312652448312,
          0.6356376560939204,
          0.09937901457266655,
          -1.1275585712724026,
          0.06375667328684693,
          0.010859472533583343,
          -1.1016208041445166,
          0.7647869666269341,
          0.3277386048799414,
          0.47761336507149943,
          -0.26286230655638837,
          -1.3779853916831342,
          -0.16037048464046616,
          -0.6214369795714786,
          0.381882754455518,
          0.6757032570775864,
          -1.0755906116585718,
          -1.22610790999188,
          0.2129518821756255,
          0.03923312111533064,
          0.1360222781531286,
          -1.151096683057676,
          -0.2266058971982791,
          1.333025457408143,
          0.887892416685775,
          -0.3068782430414904,
          -1.1473054694212366,
          -0.294905737885537,
          -0.8337744570969354,
          -0.11999724318389518,
          -0.9924612885628598,
          0.15081306552030382,
          0.037841025643829226,
          0.14986071962702538,
          1.00453552958456,
          0.3355658485929529,
          -0.5528016223262132,
          0.7364105679789354,
          0.21479517953732136,
          -0.629257970932875,
          0.3063714429247403,
          0.43733072514636623,
          -1.4462384208562438,
          0.3748315322918323,
          -0.7508514550527734,
          0.9416453450084622,
          0.23705586586656824,
          0.4163744412638545,
          1.2297944196206587,
          0.0964399264366074,
          0.39819431559288365,
          -0.6900701057533989,
          0.8966321722213492,
          0.6570539004251686,
          -0.2586409727561268,
          -0.5663436638591794,
          -1.3209900086861912,
          -0.8966390800963745,
          0.6178435687736334,
          -1.4415272554201426,
          0.2568689543177539,
          0.36816782244449114,
          0.03448111791077522,
          -0.7389341194350856,
          -0.9190272499615445,
          -0.8256948184750993,
          0.27113962945144954,
          -0.27493846854601434,
          0.08085802441959615,
          0.7067823152362278,
          -0.7245458643490316,
          0.4232681445977385,
          1.343332008463607,
          -0.6430674045658293,
          -1.1035027897718206,
          -0.5862387866307688,
          0.61189626404409,
          0.8100530227595324,
          -0.655016936616362,
          0.13899098375039742,
          0.3907814805639241,
          0.4632534014794166,
          -0.18235195921013087,
          -0.446111341598323,
          -0.6410393816743578,
          -0.4516248859946488,
          0.375061410364957,
          0.19837304537064146,
          -0.1728036522099283,
          0.5012345635662621,
          -0.38627120283378297,
          0.47438407312121816,
          -0.15979718176903365,
          0.19282814737708623,
          0.5359920260484289,
          -1.1050939521099281,
          0.5835265014323885,
          -0.2681181230037192,
          0.006339027016984802,
          -0.6619028175085896,
          0.38530266987522466,
          -0.7521936849125093,
          -0.10440895816514474,
          0.5550004652026949,
          -0.8648088043490388,
          -0.11160261771204111,
          0.7738138561064181,
          -1.4696537549959372,
          0.5860688829032757,
          0.057172472260938474,
          -0.0567317051339964,
          0.27593621668031454,
          -0.09346338639966188,
          -0.7537031433511898,
          -0.3046333673613825,
          0.018069771414309006,
          0.45250027193178133,
          0.10628513065569979,
          0.8964421995942028,
          -0.26717392883808255,
          0.1436322079305782,
          -1.1227829618149916,
          -0.2481667140922619,
          -0.9742105777975917,
          -1.1485909930170344,
          0.5140161669366414,
          0.004205900779954365,
          0.909974692152055,
          0.5859160573969752,
          0.3978005653898165,
          -1.0691546583378853,
          -0.02010895742937502,
          0.8599546300161316,
          1.1414726384031413,
          -0.05895733028044726,
          -0.6920153416570568,
          0.32685037430264896,
          -0.18422683526153735,
          0.3601953889364548,
          0.5604291454125071,
          0.36653911739842443,
          -0.12818602575719726,
          -0.12389498925776099,
          0.1362304612203604,
          1.0817128991343732,
          -0.1446888653726182,
          -0.5647741657343369,
          0.1754933271246406,
          -0.6317604916109898,
          -0.14203754875095592,
          0.19717068286688377,
          -0.16058595424222652,
          -0.6056207710435284,
          -0.9344420711374526,
          0.5450759526046132,
          0.5069230307079639,
          -0.6752654571200468,
          0.3371458577782385,
          -0.5448133598189299,
          -1.2663495133500524,
          0.3914667358016641,
          0.4098570235056089,
          0.24758024401040388,
          0.32077912235864525,
          0.537437703476944,
          0.6427671861834349,
          -0.0850648364674151,
          0.6662425068433456,
          0.45567426840448,
          1.2111630807900373,
          0.39821759519147365,
          0.005407806674530337,
          -0.6117470950018616,
          0.2544985981215301,
          0.10689496757540644,
          0.8138837098630671,
          0.027549843647686045,
          -1.4612739829526444,
          -0.6717285460488797,
          0.41754104700310085,
          0.7230119031793428,
          0.029188694860608842,
          -0.09089052366589143,
          1.4625337843105453,
          1.3276936479524817,
          -0.43009693393803683,
          0.9419254446037154,
          0.30465372023996956,
          0.04017191698545946,
          -0.8820098690817929,
          -0.23439701318118358,
          0.3885100910618076,
          0.6600792078155765,
          -0.9544801222835491,
          -0.12257650292559526,
          -0.0320139571183549,
          0.6404024489872799,
          0.2118780747039608,
          -0.317402043018378,
          -0.12383269648021746,
          -0.6369258191539137,
          -0.1979081902170235,
          0.32156485912657373,
          -1.0093435769863173,
          0.07126071874282167,
          -0.1869466298804312,
          0.006071740802375185,
          0.3263260071854955,
          -0.024740156401673517,
          0.6191046473518451,
          0.10479877916588967,
          1.2889889353351676,
          -0.056050936086703904,
          0.9369065734642975,
          -0.0792924880316871,
          0.1882716333842696,
          -1.0740213788400466,
          0.2640401166098321,
          -0.3918282589784143,
          0.3668565061719616,
          0.5379107626565608,
          1.0205379124385696,
          0.5147770504367086,
          0.5328608402583788,
          0.6308983079696745,
          -0.2665975594905752,
          -0.10934698846723034,
          0.41791594944108745,
          -0.9050104030785978,
          -0.6154192637053729,
          -0.17533172892700793,
          0.7960736835154217,
          -0.44572912936493514,
          0.21733885446820544,
          0.3009052535485108,
          0.008862130923315645,
          0.07850476477038536,
          -0.376575395968911,
          0.5987276336686255,
          -0.1990435324958857,
          0.9615730456417009,
          0.2458197276784445,
          0.8327036867787132,
          0.3832961121140849,
          0.27623130840220494,
          0.1941111346585208,
          0.1833002883186629,
          0.48190587152423037,
          1.1918568257849544,
          -0.7573577393567626,
          -0.09294106561835071,
          0.3065969070785699,
          0.6239120738350332,
          -0.27501041640603097,
          0.23107978442735674,
          -0.19651093848223466,
          -0.24271137578554683,
          0.5172699376354144,
          0.045499438955185,
          -0.18714679633417536,
          0.014043166620842778,
          0.4891990735548025,
          -0.9850401430066219,
          -0.9528932766771607,
          0.10313713269988811
         ],
         "y": [
          -0.4530933139270718,
          0.3204124104802316,
          0.32260704769115417,
          0.03436272157555233,
          0.06944156951430477,
          0.19206775933756862,
          1.2150945715371704,
          0.2821833178141896,
          -0.370576414785099,
          -0.20470224558263592,
          -0.7856154572242907,
          -0.4747757612130564,
          -0.1355705258157323,
          -0.019380965326803674,
          -0.8770875661363713,
          -0.6608946470343388,
          -0.7280290736736508,
          -1.2663713432859753,
          0.7603903884487502,
          1.2935961103951588,
          -0.5726560510127409,
          0.6259909574476944,
          0.20915318822725365,
          1.3160367781372582,
          -0.062695283199822,
          0.3626983297292718,
          -0.28713816204978354,
          -0.11865968011615015,
          -0.1986502835495554,
          -1.1185333664173776,
          -0.1524246721232229,
          0.6598239958274263,
          -0.5851626007814069,
          -1.061534348107452,
          -0.7655343740909595,
          -0.11502190120343686,
          0.12115534273699533,
          0.12075906040432871,
          0.08094679733881933,
          -0.43262535626957893,
          0.8618550554890201,
          -1.0068319705612694,
          0.7954994463341389,
          1.0063385483523446,
          -0.22677328607373218,
          -0.6159074049461194,
          -0.024622772131525764,
          0.19529332778378142,
          -0.20662403047833705,
          0.9714083646499209,
          -1.275681117954443,
          -1.065098285209614,
          0.3317699768072181,
          -0.6008298364729241,
          -0.0640754492203278,
          -0.350214643871387,
          -0.5636259054406545,
          -1.0503901054575748,
          0.5094704437479091,
          -0.4098317622048887,
          0.23108537155659567,
          0.8931730107110557,
          -0.7305950950735889,
          -0.724735376926404,
          -0.5805455930319755,
          0.008912961674638061,
          -0.9983070405571797,
          0.3047653710453596,
          -0.9133129410601144,
          -0.7756936970345393,
          0.7706549814953285,
          1.381634873850229,
          -0.5570880285824618,
          0.2594314424615658,
          -0.7411132415827967,
          -0.7585757312914378,
          -0.4239400259942315,
          0.540891105940942,
          -0.07308457273023648,
          -0.9169467482714496,
          0.21080382133222245,
          -0.8663163182121151,
          -1.0114702043463777,
          0.7150194191641819,
          -0.7861745758158066,
          1.4712823970179303,
          -0.2235447924409452,
          0.9567697903348541,
          -0.6596339113747455,
          -0.8521774721418346,
          -0.9613179131080198,
          -0.19832578439163162,
          0.5815589260178297,
          -0.8036642460653914,
          -0.7493420785755553,
          -0.9491031869423747,
          0.12954750454843666,
          -1.1681967993736364,
          -0.027941978031322773,
          -0.3685468613245288,
          0.01233640193442969,
          0.02399586832507799,
          0.5083679183029306,
          0.7633425401630078,
          -1.0405807351525678,
          -0.11313012111769873,
          -0.21253069470736735,
          0.21323531562495937,
          -0.18256449345177633,
          -0.5917696565320361,
          -0.20627046583205746,
          -0.1865643673645958,
          0.5682221935360822,
          -0.897617507872814,
          -1.0199179868615047,
          0.5874019808287073,
          -0.7303486582593255,
          1.0131155172710753,
          -0.5627566327331873,
          1.3596765562568498,
          -0.041887922622499206,
          1.2143461456110995,
          0.9078437892458847,
          -0.1329273447361807,
          0.6249239627510128,
          -0.5565924687771617,
          -0.09398474160083477,
          -0.2703578899128754,
          -0.11197879772182351,
          0.6627016072963174,
          -0.8007033241771127,
          -0.2366400795613074,
          -0.23837956133891386,
          -0.26308758003049226,
          -0.5601446678621818,
          -1.046635993418903,
          -0.2614416498767999,
          0.12132894704614208,
          0.20177509907877927,
          0.21758984449196206,
          1.2420696405889906,
          0.2443439067130129,
          -0.03208743949952951,
          0.39700988541930504,
          -0.15843027741665686,
          0.007431198965709498,
          0.26507241671852655,
          -0.5098693305560837,
          -0.6240788750698033,
          0.9383758446995111,
          0.30526171758677373,
          -0.015634831959916645,
          -0.4418515825385865,
          0.9123590588641942,
          0.38393284242617676,
          -1.1500789150878785,
          -0.0631694588726029,
          -0.1399015765615609,
          -0.3483730145721206,
          -0.23295535413874813,
          -0.23058077043887842,
          0.5546595165551289,
          0.5788864158404363,
          -0.8013214959500032,
          -0.7373124614118758,
          -0.5842737976510154,
          -0.8093521657218274,
          -0.37481286262776925,
          -0.52703954104257,
          0.749958478203914,
          -0.01681790680541833,
          -0.5121506674747563,
          0.8280697255105018,
          -0.1819672891763689,
          0.5602602199714591,
          -0.2100524876130182,
          -0.6612991597697349,
          1.3992515113477557,
          0.12307103165090474,
          -0.34170526259888057,
          0.4801965336163012,
          -0.6313603854912161,
          0.21749596048204273,
          1.2046637631297157,
          0.02333069688875221,
          0.13161434809189052,
          -0.23195277219594812,
          0.051417250990146796,
          0.18925549849587364,
          0.11689644559968285,
          0.10470185143983761,
          0.1543525635216238,
          -0.17880768425035806,
          -0.18762455665037425,
          0.277030407144005,
          -0.018412314614015844,
          0.053581217664342595,
          0.07016208592674479,
          0.07113866448368295,
          0.7495897146299134,
          -0.1201344039612395,
          1.0922608614158187,
          0.7588306698785376,
          -0.028371405988178697,
          -0.12846008664365416,
          0.07911650931021164,
          0.5124301558015982,
          0.3357045674324107,
          0.06267779158392456,
          0.4867329591016497,
          -0.4209349761765683,
          0.09556722026810041,
          0.6184338798412615,
          -0.1211382549867777,
          -0.35945203675709814,
          -0.1660128579138115,
          0.10378678934757539,
          0.887115403333228,
          1.0821305451280239,
          -0.39401889082835295,
          -0.48510171836731597,
          -0.3393432768029083,
          0.23638366270999947,
          -0.07176392047360429,
          -0.32545644784341055,
          -0.2134930123754134,
          0.09853785862254016,
          0.3919799099964,
          -0.30010074224118705,
          0.0943108026995735,
          1.3805079119646868,
          0.03651737234608219,
          0.4130320419456056,
          -0.1392509040937327,
          -0.04359274014962196,
          0.6608695519684914,
          -0.10177015632446512,
          0.33105314291317595,
          -0.6270725846040132,
          1.176927104608355,
          0.9707920154740511,
          0.2977104323113606,
          -0.38821050458332285,
          0.7558260872675229,
          -0.4242868932564415,
          -0.051894354533823586,
          0.7798223663183921,
          0.7602050709712898,
          0.3937100453824163,
          -0.13675213101697162,
          -0.2136855513403534,
          0.3532454244394892,
          -0.06341055119841178,
          -0.5555104857072068,
          -0.3428326857254988,
          1.1465957934207924,
          -0.006488316895433373,
          -0.8500630739142072,
          -0.5684077415793907,
          -0.8294787225149536,
          -0.07832249678876299,
          -0.015339933448475245,
          0.04352171004912325,
          0.3646805685002263,
          -0.48919106851378147,
          0.7431091117086025,
          -0.2533920181483456,
          1.199514268716914,
          0.09107932218433881,
          -0.1776931481667645,
          0.0797693801535968,
          -0.05219981902347555,
          -0.42268753119424896,
          0.0037430572635216743,
          -0.14565724249951703,
          -0.48296409284308744,
          0.028049851465339774,
          -0.5076254512445804,
          0.8505230648665376,
          0.4651278083515924,
          0.6526506006777852,
          -0.0818538552021364,
          -0.09623040874030757,
          0.9777093595633654,
          -0.09701223995721386,
          -0.03526607199950097,
          -0.22255933919330073,
          0.6202242037664307,
          -0.014123843078269286,
          -0.6247708465935073,
          0.5546244628384002,
          -0.41287433616138336,
          -0.3987883908014716,
          0.24534226065332657,
          -0.8446782455840226,
          -0.1689040624323865,
          0.15277449908141955,
          0.5416871152268447,
          0.702221230135643,
          0.7976996387583074,
          -0.3054294031413346,
          -0.021446619272923545,
          0.6895061306076774,
          -0.2766459101386098,
          -0.7115555050166228,
          -0.6432052366421989,
          -0.5685258137467935,
          0.8823208833659751,
          0.04713165633642796,
          0.6677240913212957,
          0.09678633940777183,
          0.4116725890707026,
          0.16098657418955908,
          0.8485751673873437,
          -0.36904683133692023,
          0.5350077434061749,
          -0.10363555127498832,
          -0.4513044193191332,
          0.0689048081992125,
          0.4546225814325592,
          0.3869311642688862,
          -0.6634280959749216,
          0.4894013254522786,
          -0.10986674596527228,
          -0.07468936996790003,
          0.08889654290141766,
          -0.7909754705985965,
          0.11093432083794473,
          -0.5153454305054952,
          0.19225321968314038,
          0.07063718127262697,
          0.221958565600915,
          0.8504403021339246,
          -0.48721468345815167,
          0.9783568386983748,
          0.14585420657611706,
          0.5798343921942914,
          -0.05675830772969447,
          -0.043729796278841576,
          0.19596734442636224,
          -0.2197870627187413,
          -0.727471168590222,
          0.954281998120305,
          -0.28131844182548593,
          -0.2161865227677275,
          -0.15029246529033757,
          0.5630377835853625,
          0.2998281672816048,
          0.05514942904360201,
          0.02514925009266606,
          0.2868976504142737,
          0.8178323598641601,
          1.1166939191276208,
          -0.8931603932273992,
          0.5079172408796064,
          0.32861965378312524,
          -0.1202008068184424,
          0.1466275336278578,
          0.19120573138343624,
          0.03463202380421628,
          1.231625577766059,
          0.8187567754208676,
          0.431662029941914,
          -0.4175025568852108,
          -0.32739153567234835,
          -0.8494180688045506,
          -0.28400095572472434,
          0.537924016463144,
          -0.5135526838554199,
          0.911259568574148,
          -0.48682507528202246,
          0.43020411580116635,
          0.04824714629170394,
          0.9519258027600727,
          -0.657908407668504,
          -0.6823814096543885,
          -0.6655252000710645,
          -0.05290888667398519,
          -0.7638343291756448,
          -0.1903579277861262,
          0.01008244108865506,
          0.5046790653273521,
          -0.7255870600038578,
          0.4925917876809704,
          -0.10167221675654428,
          -0.04826930264956074,
          -0.5263370135809131,
          -0.5909769776247878,
          -0.024633224828956926,
          -0.31125803293203724,
          -0.07510186265390244,
          -0.5734538073492766,
          0.6771984745342248,
          -0.3792408111772373,
          -0.10707449398696238,
          -0.36587858141526175,
          -0.3916877870921327,
          -0.2379606278454241,
          -0.5684525095521876,
          -0.2900482000434279,
          0.5110026499147279,
          -0.23644320397403393,
          0.2565458089954569,
          -0.5275456523229887,
          0.06167113208147187,
          -0.18725120496301012,
          -0.0005824053855026864,
          0.7875417632391172,
          0.6094024948779533,
          0.07504403207185373,
          0.22597136081349456,
          0.7028226798788082,
          -0.38506681648050384,
          -0.43397046799647926,
          -0.17697722587901682,
          0.14787153588068616,
          1.0654484557157402,
          -0.26501026974623204,
          -1.1356219946842436,
          -0.3989498690489496,
          -0.2106937250080379,
          -0.06384906445183464,
          -0.6443622563354692,
          0.1910572213321477,
          0.22084773209783184,
          0.44078705034741467,
          -0.777449413718495,
          0.7937909335938065,
          0.00840100154811136,
          -0.10142278569279593,
          1.0035419220293056,
          -0.47656081757497754,
          0.06494917783663125,
          0.8699265538488125,
          -0.08879655199881926,
          0.10550991514783939,
          -0.30974891176355146,
          0.9218083075087795,
          -0.1384139413064464,
          -1.0381906577585776,
          -0.12096616559070997,
          0.9019253117708949,
          0.5360828700679654,
          -0.7271430461245566,
          0.6165109402900688,
          -0.08585335407634209,
          0.11365330109468917,
          -0.5602583716815323,
          -0.7245638180303842,
          0.9572873113900393,
          -0.36396167340427626,
          0.39647326025926005,
          0.820738713637562,
          0.29451910710826407,
          -0.25061323360984383,
          0.39129162206254076,
          0.2551743608891433,
          0.5256370130562938,
          -0.21456656784351502,
          -0.43764567996471,
          0.10337365451390355,
          -0.042706527945275845,
          -0.6412432513723679,
          0.14077071677524924,
          -0.13415811081190862,
          0.018152617953549395,
          -0.01974497242039114,
          -0.8372518273717862,
          0.12340037908128192,
          -0.05237476235889862,
          0.5941081471351108,
          -0.916214041799018,
          -0.6413648685849249,
          0.5675221721648381,
          -0.3801492960040455,
          -0.5839155991894882,
          -0.22619493597821386,
          -0.02513378969439387,
          0.24991027622429413,
          -0.18841619975931792,
          0.3664354722141979,
          0.22517335191372614,
          0.5983659517225134,
          0.9373583735245726,
          -0.2865333290265582,
          -0.9281343727990932,
          -0.10140247267254433,
          -0.2593604816589496,
          0.08166444448902513,
          0.8854131224537503,
          0.03561273234798172,
          0.07332013611885545,
          -0.39864825281236027,
          -0.2942269069165465,
          -0.12564620977146077,
          0.14862906389721,
          -0.11560487567154616,
          -0.14921357017493617,
          -0.16683401601489778,
          -0.1891912529238038,
          0.4027520074943959,
          0.8415433611751313,
          -0.16991283570415364,
          0.3572170240059382,
          -0.1060735668147104,
          0.6795092897534941,
          0.3288505694031927,
          -0.4923555211211202,
          -0.039553946303901494,
          1.1912384883121026,
          -0.043630287248638364,
          0.09493134364307508,
          0.5925183224652671,
          -0.6593232832563105,
          -0.5508592371321317,
          -0.4910211992833054,
          0.18072034068202017,
          0.7116650226769025,
          -0.23259990182842188,
          -0.07601334900698191,
          0.3600394786511251,
          -0.5029180052824964,
          -0.04985026148858336,
          -0.0657401049789509,
          0.46308939779667607,
          -0.11083372380536625,
          -0.45731932026002736,
          -0.1983345140010631,
          -0.09577279125457328,
          -0.10902550750206005,
          0.5379363844303171,
          -0.06491655070800617,
          -0.07636634286374348,
          -1.0690814393996326,
          0.20585137649287372,
          -0.34402869654086865,
          -0.5277228590403918,
          -0.1168906350543264,
          0.08033808849245495,
          -0.18270262762950598,
          0.5184218728287775,
          -0.017103279370802964
         ],
         "z": [
          -0.8050998495397621,
          0.013808409837886023,
          -0.4621252645402522,
          -0.879938226813707,
          -0.8754115385769562,
          -0.7946171547807308,
          0.015156119270256804,
          0.03279238428064833,
          -0.8622457417114713,
          -0.25041180255287754,
          -0.6673695097737546,
          0.420001745737936,
          -0.897198549961676,
          -1.0289329101558449,
          -0.993948484338109,
          0.07128747811612017,
          -0.8601484386518394,
          0.5067974833481192,
          0.4959711181174871,
          0.3421312279213491,
          -1.005646411536591,
          -0.34814499928822235,
          -1.2056096788887418,
          0.06937495872337059,
          -1.1833014485173314,
          0.44022940544241135,
          -0.5475072421905837,
          -0.6472029376637496,
          0.1125192588203266,
          0.1917645890901964,
          -0.24108413311233906,
          -0.0872069449227041,
          0.27806006058346633,
          0.021659364340757548,
          -0.6478568412805745,
          -0.32564896788906317,
          -0.4243612777249398,
          -0.44188874931506716,
          0.30683305736409244,
          -0.7877651296045936,
          0.711932338446456,
          -0.1145303074159002,
          0.023518790719694226,
          0.5807560953525868,
          -0.35315367344601545,
          -0.6111204710882558,
          -0.783692403189787,
          -0.934208889332201,
          0.3477353233236071,
          0.21142280574327568,
          -0.24783630805572526,
          0.6353479852508476,
          -0.398304670900772,
          0.5738388232328826,
          -0.3760480140517328,
          -0.3835771291251564,
          -0.5862449546866473,
          -0.0929646505580221,
          0.32049817618199594,
          -0.5919363388734737,
          -0.9481066774059153,
          0.05654952497899137,
          1.5789297873215309,
          0.04124467204089597,
          -0.14881186202704907,
          -0.4167075917387284,
          0.6810055845743573,
          0.1560208462044541,
          -0.2109811623731896,
          1.604633093248132,
          -0.25719780771865286,
          -0.15511689283112962,
          -0.5898957785896971,
          -0.7668637978865604,
          1.6539616405053292,
          0.1968403325223619,
          -0.6613591638234568,
          -0.04606180088070487,
          -1.1653488099615115,
          1.4755115939202708,
          -0.44562042447111033,
          -1.0190100899630252,
          1.140326395941368,
          0.20544223692204375,
          1.5338132845669836,
          0.31941998718007963,
          0.14182711438604315,
          0.5826479176618596,
          0.21582419598889724,
          1.5360115548163806,
          -0.6073997629352936,
          -0.08723066136666183,
          0.5580486205368367,
          1.2018663217199377,
          0.09865316042117425,
          0.34434585824554165,
          -0.23208340108118863,
          1.3416521567676887,
          0.78210065858758,
          0.36577001676436083,
          0.7276020362958072,
          0.698275593800447,
          0.010976485753776717,
          0.18696532674637745,
          0.17730051231630511,
          -0.7638262881314608,
          -0.5315336942142843,
          -0.08786582890406269,
          -0.979857455120823,
          0.7088827530675123,
          -0.22579670344854905,
          -0.2963046499891492,
          -0.3084772778271222,
          0.9305530861019056,
          -0.0290428323983713,
          0.33428365039980773,
          -0.5558079120321627,
          0.34489141123174666,
          1.2940948546699564,
          0.3444343600660632,
          0.7134875418749013,
          0.29566774771598725,
          0.09142690688896618,
          -0.9383995703417398,
          0.0931904152746973,
          0.26868651872268123,
          0.12298560933664301,
          -0.5688631652049975,
          -0.7319403284051966,
          -0.24476022165603606,
          1.435887965953872,
          -0.3850670266840849,
          0.07738358342635564,
          0.3776067793117579,
          -0.36494427561058373,
          -0.16692210166732668,
          0.23612721378709348,
          -0.7849168071119013,
          -0.6864025245495674,
          0.04801224254568959,
          0.2333210456309292,
          -0.6491252723714078,
          -0.17402823740854606,
          0.3576872210373312,
          -0.584176113651388,
          0.3413749505916949,
          -0.010809535938910934,
          -0.09826999143110554,
          -0.2682810278193151,
          -0.014934958884798425,
          0.14606643964174576,
          0.7264386842853817,
          0.2788395671041329,
          0.27226958411398877,
          -0.046934027722163686,
          -0.842481025293015,
          -0.579722633791245,
          0.015054503003852,
          -0.34189692367873326,
          0.24637266657861812,
          0.43208787595948245,
          0.11061065247432961,
          0.3944121718113728,
          1.344374610973933,
          0.20879509663214713,
          -0.030420915710604114,
          0.3583646963534213,
          0.984567394528317,
          -0.5030739971678497,
          -0.09275286817056279,
          -0.20048539994414286,
          -0.2467783293693138,
          0.292899837507977,
          -0.29765149454212947,
          0.5012650501783317,
          -0.07697511871143116,
          -1.238777310581291,
          0.36003779402452074,
          -0.1653624251726563,
          -0.4468633165118269,
          0.3565481865911844,
          -0.6396782513780902,
          0.32767861313328966,
          0.5536916239561592,
          -0.5075447755899197,
          0.4520994850961129,
          -0.43990439689779176,
          0.7070187396398134,
          -0.10086586983343665,
          -0.9431563342771271,
          0.3001968901537344,
          -0.18075600285918325,
          0.22115136930038223,
          0.24397046882143106,
          0.20374791016808927,
          0.2505827709582487,
          -0.5706046166230984,
          -0.5917243604862668,
          -0.48787562453780253,
          0.3759633176028175,
          -0.11327777919862486,
          0.15249050961769708,
          0.3420735883310789,
          0.061480423153619304,
          -0.014619292559575276,
          -0.2357317156659543,
          0.22309430500442423,
          -0.36919724761016187,
          -0.5060646271591884,
          0.14902385812124017,
          -0.9324555523260414,
          -0.9830963476932759,
          0.25861950288382074,
          0.23066482273948172,
          -0.5411311175985032,
          -0.17700896969879712,
          -0.7897502021592162,
          0.18624166797092492,
          0.14634552908358345,
          0.3708449930262258,
          -0.1207658044695026,
          0.0967615519141893,
          -0.28427693478383254,
          -0.37898160551133725,
          0.23210071307108082,
          -0.5727993839803143,
          -0.13835740711264538,
          -0.31099773205357073,
          -0.056513957106602085,
          -0.7996587127720227,
          0.4289697270732196,
          -0.07094142240352866,
          -0.3088868528737658,
          -0.3168258322838244,
          0.21571118441078613,
          0.5049101435869632,
          -0.02684850195538841,
          -0.4118790586163377,
          0.2726304568772569,
          0.14553729239347474,
          0.24246769219536518,
          0.2268822431573871,
          -0.6983075092164495,
          -0.10974691420561787,
          -0.43732370185503344,
          -0.10824029553663123,
          0.05567115017553687,
          0.1121269210756087,
          -0.5418083832893957,
          -1.005451902092455,
          -0.08408554653936522,
          0.04468970073460023,
          -0.14808679712970774,
          -1.0588666318204432,
          -0.34469515369411696,
          0.12116926482855307,
          0.10602424094732937,
          1.4380627810061437,
          -0.4685236568871722,
          1.3273291129486688,
          0.025554660578686224,
          -1.0047439835660152,
          0.6489718717381967,
          -0.023428778856973913,
          -0.5542502819121026,
          0.40694561445030775,
          -0.2743214587131342,
          0.3048797705357299,
          0.3243850444189545,
          0.09510301100524332,
          0.13642056747313372,
          0.03670361503795415,
          -0.03624524239049383,
          -0.7928600818635613,
          0.20613538308270016,
          0.13167515851334383,
          -1.1727083486696386,
          0.08977802277304954,
          0.6892198260799532,
          0.2679251524394471,
          0.05075482027184361,
          -0.07574048107084771,
          0.0335299607250111,
          -0.3054320123588123,
          -0.6549010908804718,
          -0.1878428329369074,
          0.19313027434361463,
          0.3951672673245317,
          -0.4134637049631824,
          1.425310702720511,
          0.16522347650590713,
          0.22042102321734475,
          0.4649679802317691,
          0.46954322518944114,
          -0.6110941480138427,
          0.13902784392627004,
          0.792049367731413,
          0.08591619061838991,
          -0.049923887667031236,
          0.14114728053044592,
          -0.39319708849206764,
          -0.12312432754264058,
          0.22416936825191688,
          -0.6084609201359489,
          1.3683526061661837,
          -0.5658587995248895,
          1.2512992769618922,
          -0.14359543851083265,
          0.8806511555644252,
          0.019319548046585762,
          -0.04876955463413873,
          -0.11176874135294325,
          0.010853066333152932,
          -0.49678778051572525,
          -0.01151110530563404,
          0.4887581638445457,
          -0.20396330927076592,
          0.11795178160120848,
          -0.3613636846887937,
          -0.19194940319952847,
          0.1843764565269142,
          -0.3873475587030561,
          0.2007567160882559,
          -0.27813097228221495,
          -0.008893323448597848,
          -1.1149094820235081,
          1.186273056981105,
          0.1468688074559807,
          -0.42316644917665747,
          -0.005789495363844019,
          -0.479608435545727,
          0.1731956308878059,
          0.30690199553062997,
          -0.8715696450262383,
          0.42852439867998815,
          -0.022135219889358758,
          0.1378804307103595,
          -0.2731866264770726,
          0.021924937104295352,
          -0.16271859296127472,
          -0.18319835826120634,
          -0.17804163896689018,
          0.25276270276241203,
          0.0933256137959996,
          0.41024954549869397,
          -0.36022692479516183,
          0.48029102658537054,
          -0.07061102390252648,
          -0.03695115663524993,
          -0.28785788948887214,
          -0.34076014995673665,
          0.20560513337172245,
          0.19248139732602187,
          0.22310380668068416,
          0.337478732298707,
          -0.029204367901108315,
          -0.012120796746382102,
          0.18695292438168856,
          -0.06957830363004759,
          -0.4167901430572481,
          0.25966690895339406,
          0.2628942680977333,
          0.42314253312806366,
          0.055122062628121665,
          0.383431017982851,
          0.8999206003801299,
          -0.08738057096643354,
          0.312977625699797,
          0.12061875660896391,
          0.20200483433565877,
          0.5244747463051096,
          0.5043348354941873,
          -0.004092029423089269,
          0.4386060061536382,
          -0.402231257027217,
          0.8505920592042915,
          0.07459878485273093,
          0.13817343254564818,
          -0.042427641551979894,
          -0.11955610867331215,
          -0.2339854407409608,
          -0.0803466271634574,
          0.8360937838166699,
          0.44535041306194123,
          -0.3500794569323518,
          -0.1755682092581699,
          0.2108901115156673,
          0.3709760746999659,
          -0.3974217264932878,
          0.28213823319965925,
          -0.28264469246014967,
          -0.04447852874870959,
          0.05365782676559932,
          -0.6297470368374164,
          0.16638443086516483,
          -0.4874429167479409,
          -0.5267999092588468,
          0.4607481579244059,
          -0.9982259221146349,
          -0.20922212594084297,
          -0.30512504922710193,
          -0.5781717379105952,
          0.4495742947201909,
          -0.03149698156717956,
          -0.5137409380353269,
          -0.5879976328313361,
          -0.16948307814608796,
          -0.3182926148995063,
          0.41300012706227873,
          -0.6596863384067307,
          -0.5608814408171812,
          -0.13309889361319144,
          -0.11915344596477091,
          0.17943146949350344,
          -0.3317107839072323,
          0.09754335721683033,
          0.2146833983587552,
          0.026883732194918873,
          0.6948924665751686,
          -0.5832184406424988,
          0.33080814003145087,
          -0.5145707706053895,
          0.8997339898151736,
          -0.3819645345160022,
          -0.18710279834543805,
          0.04996250470181153,
          1.1802036021645939,
          -0.3328458431145524,
          0.010904124533547638,
          0.6307927060310535,
          0.09866143755222741,
          0.13032446396813152,
          -0.08318642398747438,
          0.37002066467040934,
          -0.31960451927145295,
          -0.12042220693687235,
          -0.8122362986674173,
          0.4893550847077596,
          -0.0764793804695109,
          0.03457774372572606,
          0.14273434988256947,
          0.6162200828799997,
          0.4891190352454583,
          1.2351943584337755,
          0.4798088390490673,
          0.2589007800057095,
          -0.5281940439443438,
          0.3074180693191805,
          0.9393748376161222,
          0.24530738775095692,
          0.1535260268050864,
          0.23878600278910223,
          0.2113930603685767,
          0.7379983126538256,
          -0.34458534668353996,
          0.36793374728288125,
          -0.06201054201577657,
          0.16108722943067505,
          -0.036349883266996744,
          0.41235443879439176,
          -1.0195834062967746,
          -1.0515697637865529,
          -0.3317014445706324,
          -0.3883622993029623,
          -0.27627287384417526,
          -0.0510169035901328,
          -0.07447646181424981,
          1.3493836482839623,
          0.1116971638871199,
          -0.02314123635213066,
          0.11940023964140756,
          0.4872812279727048,
          1.3251925388628731,
          0.3197398046621784,
          -0.599379818470158,
          -0.07185686354947082,
          -0.2609665753136711,
          -0.235092156564064,
          -0.3612986466928454,
          -0.34690974815366427,
          -0.04178387963421208,
          -0.13099576963883924,
          0.4232055229380985,
          0.564860199082466,
          0.1908216872434643,
          0.01698993324064597,
          -0.20249437045894714,
          0.3676403155766233,
          -0.9463934994472588,
          0.193468998720582,
          -0.8342331297053779,
          -0.10237475084474398,
          0.1824410068509374,
          -0.9342542005593101,
          0.43980935700577606,
          0.15406595544972884,
          -0.06899461553035474,
          0.1916370198171004,
          -0.5280096364650286,
          -0.4833712795986046,
          0.45458707939133286,
          0.46328532635335806,
          0.2382022938709158,
          0.3083687453165779,
          0.04386439983030268,
          0.0024191572882146816,
          -0.00005347133764582787,
          0.30476077567759896,
          0.18053233805990693,
          0.3203264034468526,
          -0.3359274716777625,
          -0.24313130294096164,
          -0.17305905490300316,
          1.109383351565317,
          1.536235541347775,
          -0.3650003531553786,
          0.019168758634571324,
          0.3145531002422835,
          -0.23770808668318,
          -0.6092669003064853,
          -0.31195861413928677,
          0.4698095453903089,
          -0.3432093735877339,
          0.9862817709951975,
          -0.6298003523223116,
          -0.9421632836232241,
          -0.2943751880074532,
          0.18596490195692605,
          -0.3192987440997435,
          -0.3566886143821228,
          0.48876260735119587,
          -0.28789592551803717,
          0.0772483933208291,
          0.04311172498789834,
          -0.04556889061995902,
          0.39820455693281515,
          -0.04572897523044451,
          0.12324659123971901,
          0.6075763990650209,
          0.21528063081650153,
          0.13112169426711692,
          0.2392070286746218
         ]
        }
       ],
       "layout": {
        "coloraxis": {
         "colorbar": {
          "title": {
           "text": "occurances"
          }
         },
         "colorscale": [
          [
           0,
           "#0d0887"
          ],
          [
           0.1111111111111111,
           "#46039f"
          ],
          [
           0.2222222222222222,
           "#7201a8"
          ],
          [
           0.3333333333333333,
           "#9c179e"
          ],
          [
           0.4444444444444444,
           "#bd3786"
          ],
          [
           0.5555555555555556,
           "#d8576b"
          ],
          [
           0.6666666666666666,
           "#ed7953"
          ],
          [
           0.7777777777777778,
           "#fb9f3a"
          ],
          [
           0.8888888888888888,
           "#fdca26"
          ],
          [
           1,
           "#f0f921"
          ]
         ]
        },
        "legend": {
         "itemsizing": "constant",
         "tracegroupgap": 0
        },
        "margin": {
         "t": 60
        },
        "scene": {
         "domain": {
          "x": [
           0,
           1
          ],
          "y": [
           0,
           1
          ]
         },
         "xaxis": {
          "title": {
           "text": "0"
          }
         },
         "yaxis": {
          "title": {
           "text": "1"
          }
         },
         "zaxis": {
          "title": {
           "text": "2"
          }
         }
        },
        "template": {
         "data": {
          "bar": [
           {
            "error_x": {
             "color": "#2a3f5f"
            },
            "error_y": {
             "color": "#2a3f5f"
            },
            "marker": {
             "line": {
              "color": "#E5ECF6",
              "width": 0.5
             },
             "pattern": {
              "fillmode": "overlay",
              "size": 10,
              "solidity": 0.2
             }
            },
            "type": "bar"
           }
          ],
          "barpolar": [
           {
            "marker": {
             "line": {
              "color": "#E5ECF6",
              "width": 0.5
             },
             "pattern": {
              "fillmode": "overlay",
              "size": 10,
              "solidity": 0.2
             }
            },
            "type": "barpolar"
           }
          ],
          "carpet": [
           {
            "aaxis": {
             "endlinecolor": "#2a3f5f",
             "gridcolor": "white",
             "linecolor": "white",
             "minorgridcolor": "white",
             "startlinecolor": "#2a3f5f"
            },
            "baxis": {
             "endlinecolor": "#2a3f5f",
             "gridcolor": "white",
             "linecolor": "white",
             "minorgridcolor": "white",
             "startlinecolor": "#2a3f5f"
            },
            "type": "carpet"
           }
          ],
          "choropleth": [
           {
            "colorbar": {
             "outlinewidth": 0,
             "ticks": ""
            },
            "type": "choropleth"
           }
          ],
          "contour": [
           {
            "colorbar": {
             "outlinewidth": 0,
             "ticks": ""
            },
            "colorscale": [
             [
              0,
              "#0d0887"
             ],
             [
              0.1111111111111111,
              "#46039f"
             ],
             [
              0.2222222222222222,
              "#7201a8"
             ],
             [
              0.3333333333333333,
              "#9c179e"
             ],
             [
              0.4444444444444444,
              "#bd3786"
             ],
             [
              0.5555555555555556,
              "#d8576b"
             ],
             [
              0.6666666666666666,
              "#ed7953"
             ],
             [
              0.7777777777777778,
              "#fb9f3a"
             ],
             [
              0.8888888888888888,
              "#fdca26"
             ],
             [
              1,
              "#f0f921"
             ]
            ],
            "type": "contour"
           }
          ],
          "contourcarpet": [
           {
            "colorbar": {
             "outlinewidth": 0,
             "ticks": ""
            },
            "type": "contourcarpet"
           }
          ],
          "heatmap": [
           {
            "colorbar": {
             "outlinewidth": 0,
             "ticks": ""
            },
            "colorscale": [
             [
              0,
              "#0d0887"
             ],
             [
              0.1111111111111111,
              "#46039f"
             ],
             [
              0.2222222222222222,
              "#7201a8"
             ],
             [
              0.3333333333333333,
              "#9c179e"
             ],
             [
              0.4444444444444444,
              "#bd3786"
             ],
             [
              0.5555555555555556,
              "#d8576b"
             ],
             [
              0.6666666666666666,
              "#ed7953"
             ],
             [
              0.7777777777777778,
              "#fb9f3a"
             ],
             [
              0.8888888888888888,
              "#fdca26"
             ],
             [
              1,
              "#f0f921"
             ]
            ],
            "type": "heatmap"
           }
          ],
          "heatmapgl": [
           {
            "colorbar": {
             "outlinewidth": 0,
             "ticks": ""
            },
            "colorscale": [
             [
              0,
              "#0d0887"
             ],
             [
              0.1111111111111111,
              "#46039f"
             ],
             [
              0.2222222222222222,
              "#7201a8"
             ],
             [
              0.3333333333333333,
              "#9c179e"
             ],
             [
              0.4444444444444444,
              "#bd3786"
             ],
             [
              0.5555555555555556,
              "#d8576b"
             ],
             [
              0.6666666666666666,
              "#ed7953"
             ],
             [
              0.7777777777777778,
              "#fb9f3a"
             ],
             [
              0.8888888888888888,
              "#fdca26"
             ],
             [
              1,
              "#f0f921"
             ]
            ],
            "type": "heatmapgl"
           }
          ],
          "histogram": [
           {
            "marker": {
             "pattern": {
              "fillmode": "overlay",
              "size": 10,
              "solidity": 0.2
             }
            },
            "type": "histogram"
           }
          ],
          "histogram2d": [
           {
            "colorbar": {
             "outlinewidth": 0,
             "ticks": ""
            },
            "colorscale": [
             [
              0,
              "#0d0887"
             ],
             [
              0.1111111111111111,
              "#46039f"
             ],
             [
              0.2222222222222222,
              "#7201a8"
             ],
             [
              0.3333333333333333,
              "#9c179e"
             ],
             [
              0.4444444444444444,
              "#bd3786"
             ],
             [
              0.5555555555555556,
              "#d8576b"
             ],
             [
              0.6666666666666666,
              "#ed7953"
             ],
             [
              0.7777777777777778,
              "#fb9f3a"
             ],
             [
              0.8888888888888888,
              "#fdca26"
             ],
             [
              1,
              "#f0f921"
             ]
            ],
            "type": "histogram2d"
           }
          ],
          "histogram2dcontour": [
           {
            "colorbar": {
             "outlinewidth": 0,
             "ticks": ""
            },
            "colorscale": [
             [
              0,
              "#0d0887"
             ],
             [
              0.1111111111111111,
              "#46039f"
             ],
             [
              0.2222222222222222,
              "#7201a8"
             ],
             [
              0.3333333333333333,
              "#9c179e"
             ],
             [
              0.4444444444444444,
              "#bd3786"
             ],
             [
              0.5555555555555556,
              "#d8576b"
             ],
             [
              0.6666666666666666,
              "#ed7953"
             ],
             [
              0.7777777777777778,
              "#fb9f3a"
             ],
             [
              0.8888888888888888,
              "#fdca26"
             ],
             [
              1,
              "#f0f921"
             ]
            ],
            "type": "histogram2dcontour"
           }
          ],
          "mesh3d": [
           {
            "colorbar": {
             "outlinewidth": 0,
             "ticks": ""
            },
            "type": "mesh3d"
           }
          ],
          "parcoords": [
           {
            "line": {
             "colorbar": {
              "outlinewidth": 0,
              "ticks": ""
             }
            },
            "type": "parcoords"
           }
          ],
          "pie": [
           {
            "automargin": true,
            "type": "pie"
           }
          ],
          "scatter": [
           {
            "marker": {
             "colorbar": {
              "outlinewidth": 0,
              "ticks": ""
             }
            },
            "type": "scatter"
           }
          ],
          "scatter3d": [
           {
            "line": {
             "colorbar": {
              "outlinewidth": 0,
              "ticks": ""
             }
            },
            "marker": {
             "colorbar": {
              "outlinewidth": 0,
              "ticks": ""
             }
            },
            "type": "scatter3d"
           }
          ],
          "scattercarpet": [
           {
            "marker": {
             "colorbar": {
              "outlinewidth": 0,
              "ticks": ""
             }
            },
            "type": "scattercarpet"
           }
          ],
          "scattergeo": [
           {
            "marker": {
             "colorbar": {
              "outlinewidth": 0,
              "ticks": ""
             }
            },
            "type": "scattergeo"
           }
          ],
          "scattergl": [
           {
            "marker": {
             "colorbar": {
              "outlinewidth": 0,
              "ticks": ""
             }
            },
            "type": "scattergl"
           }
          ],
          "scattermapbox": [
           {
            "marker": {
             "colorbar": {
              "outlinewidth": 0,
              "ticks": ""
             }
            },
            "type": "scattermapbox"
           }
          ],
          "scatterpolar": [
           {
            "marker": {
             "colorbar": {
              "outlinewidth": 0,
              "ticks": ""
             }
            },
            "type": "scatterpolar"
           }
          ],
          "scatterpolargl": [
           {
            "marker": {
             "colorbar": {
              "outlinewidth": 0,
              "ticks": ""
             }
            },
            "type": "scatterpolargl"
           }
          ],
          "scatterternary": [
           {
            "marker": {
             "colorbar": {
              "outlinewidth": 0,
              "ticks": ""
             }
            },
            "type": "scatterternary"
           }
          ],
          "surface": [
           {
            "colorbar": {
             "outlinewidth": 0,
             "ticks": ""
            },
            "colorscale": [
             [
              0,
              "#0d0887"
             ],
             [
              0.1111111111111111,
              "#46039f"
             ],
             [
              0.2222222222222222,
              "#7201a8"
             ],
             [
              0.3333333333333333,
              "#9c179e"
             ],
             [
              0.4444444444444444,
              "#bd3786"
             ],
             [
              0.5555555555555556,
              "#d8576b"
             ],
             [
              0.6666666666666666,
              "#ed7953"
             ],
             [
              0.7777777777777778,
              "#fb9f3a"
             ],
             [
              0.8888888888888888,
              "#fdca26"
             ],
             [
              1,
              "#f0f921"
             ]
            ],
            "type": "surface"
           }
          ],
          "table": [
           {
            "cells": {
             "fill": {
              "color": "#EBF0F8"
             },
             "line": {
              "color": "white"
             }
            },
            "header": {
             "fill": {
              "color": "#C8D4E3"
             },
             "line": {
              "color": "white"
             }
            },
            "type": "table"
           }
          ]
         },
         "layout": {
          "annotationdefaults": {
           "arrowcolor": "#2a3f5f",
           "arrowhead": 0,
           "arrowwidth": 1
          },
          "autotypenumbers": "strict",
          "coloraxis": {
           "colorbar": {
            "outlinewidth": 0,
            "ticks": ""
           }
          },
          "colorscale": {
           "diverging": [
            [
             0,
             "#8e0152"
            ],
            [
             0.1,
             "#c51b7d"
            ],
            [
             0.2,
             "#de77ae"
            ],
            [
             0.3,
             "#f1b6da"
            ],
            [
             0.4,
             "#fde0ef"
            ],
            [
             0.5,
             "#f7f7f7"
            ],
            [
             0.6,
             "#e6f5d0"
            ],
            [
             0.7,
             "#b8e186"
            ],
            [
             0.8,
             "#7fbc41"
            ],
            [
             0.9,
             "#4d9221"
            ],
            [
             1,
             "#276419"
            ]
           ],
           "sequential": [
            [
             0,
             "#0d0887"
            ],
            [
             0.1111111111111111,
             "#46039f"
            ],
            [
             0.2222222222222222,
             "#7201a8"
            ],
            [
             0.3333333333333333,
             "#9c179e"
            ],
            [
             0.4444444444444444,
             "#bd3786"
            ],
            [
             0.5555555555555556,
             "#d8576b"
            ],
            [
             0.6666666666666666,
             "#ed7953"
            ],
            [
             0.7777777777777778,
             "#fb9f3a"
            ],
            [
             0.8888888888888888,
             "#fdca26"
            ],
            [
             1,
             "#f0f921"
            ]
           ],
           "sequentialminus": [
            [
             0,
             "#0d0887"
            ],
            [
             0.1111111111111111,
             "#46039f"
            ],
            [
             0.2222222222222222,
             "#7201a8"
            ],
            [
             0.3333333333333333,
             "#9c179e"
            ],
            [
             0.4444444444444444,
             "#bd3786"
            ],
            [
             0.5555555555555556,
             "#d8576b"
            ],
            [
             0.6666666666666666,
             "#ed7953"
            ],
            [
             0.7777777777777778,
             "#fb9f3a"
            ],
            [
             0.8888888888888888,
             "#fdca26"
            ],
            [
             1,
             "#f0f921"
            ]
           ]
          },
          "colorway": [
           "#636efa",
           "#EF553B",
           "#00cc96",
           "#ab63fa",
           "#FFA15A",
           "#19d3f3",
           "#FF6692",
           "#B6E880",
           "#FF97FF",
           "#FECB52"
          ],
          "font": {
           "color": "#2a3f5f"
          },
          "geo": {
           "bgcolor": "white",
           "lakecolor": "white",
           "landcolor": "#E5ECF6",
           "showlakes": true,
           "showland": true,
           "subunitcolor": "white"
          },
          "hoverlabel": {
           "align": "left"
          },
          "hovermode": "closest",
          "mapbox": {
           "style": "light"
          },
          "paper_bgcolor": "white",
          "plot_bgcolor": "#E5ECF6",
          "polar": {
           "angularaxis": {
            "gridcolor": "white",
            "linecolor": "white",
            "ticks": ""
           },
           "bgcolor": "#E5ECF6",
           "radialaxis": {
            "gridcolor": "white",
            "linecolor": "white",
            "ticks": ""
           }
          },
          "scene": {
           "xaxis": {
            "backgroundcolor": "#E5ECF6",
            "gridcolor": "white",
            "gridwidth": 2,
            "linecolor": "white",
            "showbackground": true,
            "ticks": "",
            "zerolinecolor": "white"
           },
           "yaxis": {
            "backgroundcolor": "#E5ECF6",
            "gridcolor": "white",
            "gridwidth": 2,
            "linecolor": "white",
            "showbackground": true,
            "ticks": "",
            "zerolinecolor": "white"
           },
           "zaxis": {
            "backgroundcolor": "#E5ECF6",
            "gridcolor": "white",
            "gridwidth": 2,
            "linecolor": "white",
            "showbackground": true,
            "ticks": "",
            "zerolinecolor": "white"
           }
          },
          "shapedefaults": {
           "line": {
            "color": "#2a3f5f"
           }
          },
          "ternary": {
           "aaxis": {
            "gridcolor": "white",
            "linecolor": "white",
            "ticks": ""
           },
           "baxis": {
            "gridcolor": "white",
            "linecolor": "white",
            "ticks": ""
           },
           "bgcolor": "#E5ECF6",
           "caxis": {
            "gridcolor": "white",
            "linecolor": "white",
            "ticks": ""
           }
          },
          "title": {
           "x": 0.05
          },
          "xaxis": {
           "automargin": true,
           "gridcolor": "white",
           "linecolor": "white",
           "ticks": "",
           "title": {
            "standoff": 15
           },
           "zerolinecolor": "white",
           "zerolinewidth": 2
          },
          "yaxis": {
           "automargin": true,
           "gridcolor": "white",
           "linecolor": "white",
           "ticks": "",
           "title": {
            "standoff": 15
           },
           "zerolinecolor": "white",
           "zerolinewidth": 2
          }
         }
        }
       }
      }
     },
     "metadata": {},
     "output_type": "display_data"
    }
   ],
   "source": [
    "# can the difference in metal and rock lead to \"gangster rap\" when added to rap?\r\n",
    "\r\n",
    "closest_genres(get_genre_vector('rap') + (get_genre_vector('metal') - get_genre_vector('rock')))"
   ]
  },
  {
   "cell_type": "code",
   "execution_count": 129,
   "metadata": {},
   "outputs": [
    {
     "data": {
      "text/plain": [
       "0.7684954255819321"
      ]
     },
     "output_type": "unknown"
    }
   ],
   "source": [
    "distance(get_genre_vector('ska'), get_genre_vector('rock'))"
   ]
  },
  {
   "cell_type": "code",
   "execution_count": 116,
   "metadata": {},
   "outputs": [
    {
     "data": {
      "text/plain": [
       "['trap',\n",
       " 'hip hop',\n",
       " 'southern hip hop',\n",
       " 'atl trap',\n",
       " 'houston rap',\n",
       " 'dirty south rap',\n",
       " 'gangster rap',\n",
       " 'chicago rap',\n",
       " 'memphis hip hop',\n",
       " 'underground hip hop']"
      ]
     },
     "execution_count": 116,
     "metadata": {},
     "output_type": "execute_result"
    }
   ],
   "source": [
    "from sklearn.decomposition import PCA\r\n",
    "import plotly.express as px"
   ]
  },
  {
   "cell_type": "code",
   "execution_count": 109,
   "metadata": {},
   "outputs": [
    {
     "data": {
      "text/plain": [
       "['atl trap',\n",
       " 'southern hip hop',\n",
       " 'houston rap',\n",
       " 'deep underground hip hop',\n",
       " 'underground hip hop',\n",
       " 'chicago rap',\n",
       " 'trap',\n",
       " 'dirty south rap',\n",
       " 'hip hop',\n",
       " 'melodic rap']"
      ]
     },
     "execution_count": 109,
     "metadata": {},
     "output_type": "execute_result"
    }
   ],
   "source": [
    "pca_genres = pd.DataFrame(reduced_weights)\r\n",
    "pca_genres = pca_genres.merge(genres, left_index=True,right_index=True)\r\n",
    "pca_genres = pca_genres.merge(frequency, left_on='genre', right_on='genre') #.set_index('genre')\r\n",
    "pca_genres.head(3)\r\n"
   ]
  },
  {
   "cell_type": "code",
   "execution_count": null,
   "metadata": {},
   "outputs": [],
   "source": []
  }
 ],
 "metadata": {
  "interpreter": {
   "hash": "8060bc70f878a0741aeeb63a3b5b9a33f89baa7e845faf010d26b3a9fd3246f7"
  },
  "kernelspec": {
   "display_name": "Python 3.8.10 64-bit ('word2vec': conda)",
   "name": "python3"
  },
  "language_info": {
   "codemirror_mode": {
    "name": "ipython",
    "version": 3
   },
   "file_extension": ".py",
   "mimetype": "text/x-python",
   "name": "python",
   "nbconvert_exporter": "python",
   "pygments_lexer": "ipython3",
   "version": "3.8.10"
  },
  "orig_nbformat": 4
 },
 "nbformat": 4,
 "nbformat_minor": 2
}