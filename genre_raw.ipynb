{
 "cells": [
  {
   "cell_type": "code",
   "execution_count": 32,
   "metadata": {},
   "outputs": [],
   "source": [
    "import pandas as pd\r\n",
    "import numpy as np"
   ]
  },
  {
   "cell_type": "code",
   "execution_count": 39,
   "metadata": {},
   "outputs": [
    {
     "name": "stdout",
     "output_type": "stream",
     "text": [
      "<class 'pandas.core.frame.DataFrame'>\n",
      "RangeIndex: 2973 entries, 0 to 2972\n",
      "Data columns (total 14 columns):\n",
      " #   Column            Non-Null Count  Dtype  \n",
      "---  ------            --------------  -----  \n",
      " 0   mode              2973 non-null   int64  \n",
      " 1   genres            2973 non-null   object \n",
      " 2   acousticness      2973 non-null   float64\n",
      " 3   danceability      2973 non-null   float64\n",
      " 4   duration_ms       2973 non-null   float64\n",
      " 5   energy            2973 non-null   float64\n",
      " 6   instrumentalness  2973 non-null   float64\n",
      " 7   liveness          2973 non-null   float64\n",
      " 8   loudness          2973 non-null   float64\n",
      " 9   speechiness       2973 non-null   float64\n",
      " 10  tempo             2973 non-null   float64\n",
      " 11  valence           2973 non-null   float64\n",
      " 12  popularity        2973 non-null   float64\n",
      " 13  key               2973 non-null   int64  \n",
      "dtypes: float64(11), int64(2), object(1)\n",
      "memory usage: 325.3+ KB\n"
     ]
    }
   ],
   "source": [
    "data = pd.read_csv('data/data_by_genres.csv')\r\n",
    "data.info()"
   ]
  },
  {
   "cell_type": "code",
   "execution_count": 40,
   "metadata": {},
   "outputs": [],
   "source": [
    "data = data.drop(columns=['mode','key'])\r\n",
    "data = data.set_index('genres')"
   ]
  },
  {
   "cell_type": "code",
   "execution_count": 43,
   "metadata": {},
   "outputs": [
    {
     "name": "stdout",
     "output_type": "stream",
     "text": [
      "<class 'pandas.core.frame.DataFrame'>\n",
      "Index: 2973 entries, 21st century classical to zydeco\n",
      "Data columns (total 11 columns):\n",
      " #   Column            Non-Null Count  Dtype  \n",
      "---  ------            --------------  -----  \n",
      " 0   acousticness      2973 non-null   float32\n",
      " 1   danceability      2973 non-null   float32\n",
      " 2   duration_ms       2973 non-null   float32\n",
      " 3   energy            2973 non-null   float32\n",
      " 4   instrumentalness  2973 non-null   float32\n",
      " 5   liveness          2973 non-null   float32\n",
      " 6   loudness          2973 non-null   float32\n",
      " 7   speechiness       2973 non-null   float32\n",
      " 8   tempo             2973 non-null   float32\n",
      " 9   valence           2973 non-null   float32\n",
      " 10  popularity        2973 non-null   float32\n",
      "dtypes: float32(11)\n",
      "memory usage: 151.0+ KB\n"
     ]
    }
   ],
   "source": [
    "for col in data.columns:\r\n",
    "    data[col] = pd.to_numeric(data[col], downcast='float')\r\n",
    "data.info()"
   ]
  },
  {
   "cell_type": "code",
   "execution_count": 45,
   "metadata": {},
   "outputs": [],
   "source": [
    "from scipy.spatial.distance import cosine\r\n",
    "\r\n",
    "def get_genre_vector(row):\r\n",
    "    return list(row)\r\n",
    "\r\n",
    "def distance(vec1, vec2):\r\n",
    "    return cosine(vec1, vec2)\r\n",
    "\r\n",
    "def closest_genres(vec, qty = 10):\r\n",
    "    distances = {\r\n",
    "        genre: distance(vec, get_genre_vector(data.loc[genre]))\r\n",
    "        for genre in data.index\r\n",
    "    }\r\n",
    "    return sorted(distances, key=lambda genre: distances[genre])[:qty]\r\n",
    "\r\n",
    "def closest_genre(vec):\r\n",
    "    return closest_genres(vec)[0]"
   ]
  },
  {
   "cell_type": "code",
   "execution_count": 47,
   "metadata": {},
   "outputs": [
    {
     "data": {
      "text/plain": [
       "[0.31461378931999207,\n",
       " 0.6369413733482361,\n",
       " 279910.8125,\n",
       " 0.569004476070404,\n",
       " 0.10961710661649704,\n",
       " 0.1753385365009308,\n",
       " -10.269994735717773,\n",
       " 0.06597717851400375,\n",
       " 116.3233642578125,\n",
       " 0.6515148282051086,\n",
       " 38.30313491821289]"
      ]
     },
     "execution_count": 47,
     "metadata": {},
     "output_type": "execute_result"
    }
   ],
   "source": [
    "funk_vec = get_genre_vector(data.loc['funk'])\r\n",
    "funk_vec"
   ]
  },
  {
   "cell_type": "code",
   "execution_count": 48,
   "metadata": {},
   "outputs": [
    {
     "data": {
      "text/plain": [
       "4.82839079829489e-09"
      ]
     },
     "execution_count": 48,
     "metadata": {},
     "output_type": "execute_result"
    }
   ],
   "source": [
    "distance(funk_vec, get_genre_vector(data.loc['rock']))"
   ]
  },
  {
   "cell_type": "code",
   "execution_count": 51,
   "metadata": {},
   "outputs": [
    {
     "data": {
      "text/plain": [
       "['funk',\n",
       " 'folclore tucumano',\n",
       " 'quiet storm',\n",
       " 'lancaster pa indie',\n",
       " 'freestyle',\n",
       " 'second line',\n",
       " 'danish metal',\n",
       " 'disco',\n",
       " 'hong kong indie',\n",
       " 'hong kong rock']"
      ]
     },
     "execution_count": 51,
     "metadata": {},
     "output_type": "execute_result"
    }
   ],
   "source": [
    "closest_genres(funk_vec)"
   ]
  },
  {
   "cell_type": "code",
   "execution_count": 53,
   "metadata": {},
   "outputs": [
    {
     "data": {
      "text/plain": [
       "['rock',\n",
       " 'reggae',\n",
       " 'permanent wave',\n",
       " 'charango',\n",
       " 'folklore boliviano',\n",
       " 'scottish rock',\n",
       " 'canadian indie',\n",
       " 'bristol electronic',\n",
       " 'minneapolis metal',\n",
       " 'french reggae']"
      ]
     },
     "execution_count": 53,
     "metadata": {},
     "output_type": "execute_result"
    }
   ],
   "source": [
    "rock_vec = np.array(get_genre_vector(data.loc['rock']))\r\n",
    "reggae_vec = np.array(get_genre_vector(data.loc['reggae']))\r\n",
    "closest_genres(rock_vec+reggae_vec)"
   ]
  },
  {
   "cell_type": "code",
   "execution_count": null,
   "metadata": {},
   "outputs": [],
   "source": []
  }
 ],
 "metadata": {
  "interpreter": {
   "hash": "8060bc70f878a0741aeeb63a3b5b9a33f89baa7e845faf010d26b3a9fd3246f7"
  },
  "kernelspec": {
   "display_name": "Python 3.8.10 64-bit ('word2vec': conda)",
   "name": "python3"
  },
  "language_info": {
   "codemirror_mode": {
    "name": "ipython",
    "version": 3
   },
   "file_extension": ".py",
   "mimetype": "text/x-python",
   "name": "python",
   "nbconvert_exporter": "python",
   "pygments_lexer": "ipython3",
   "version": "3.8.10"
  },
  "orig_nbformat": 4
 },
 "nbformat": 4,
 "nbformat_minor": 2
}